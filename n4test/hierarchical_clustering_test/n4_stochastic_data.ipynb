{
 "cells": [
  {
   "cell_type": "code",
   "execution_count": 1,
   "metadata": {},
   "outputs": [],
   "source": [
    "import DynamicalSystems as DS\n",
    "import DynamicalSystems.RecurrenceAnalysis as RA\n",
    "import Random\n",
    "import PyPlot as plt\n",
    "\n",
    "#import Clustering"
   ]
  },
  {
   "cell_type": "markdown",
   "metadata": {},
   "source": [
    "# TODO\n",
    "\n",
    "1.  DONE Make a histogram for every number of recurrences. DONE\n",
    "    *   Can be interesting."
   ]
  },
  {
   "cell_type": "markdown",
   "metadata": {},
   "source": [
    "# Generating data and organizing it\n",
    "#### (with some plots along the way) ####"
   ]
  },
  {
   "cell_type": "code",
   "execution_count": 2,
   "metadata": {},
   "outputs": [],
   "source": [
    "SERIES_SIZE = 1000\n",
    "SAMPLE_SIZE = 100000\n",
    "\n",
    "# generating stochastic data\n",
    "trajectory = zeros(SERIES_SIZE)\n",
    "Random.rand!(trajectory);\n"
   ]
  },
  {
   "cell_type": "code",
   "execution_count": 3,
   "metadata": {},
   "outputs": [],
   "source": [
    "# getting recurrence matrix\n",
    "matrix = RA.RecurrenceMatrix(trajectory, 0.28)\n",
    "\n",
    "new_matrix = zeros((SERIES_SIZE, SERIES_SIZE))\n",
    "for i in 1:SERIES_SIZE, j in 1:SERIES_SIZE\n",
    "    new_matrix[i, j] = 1 * matrix[i, j]    \n",
    "end\n",
    "matrix = trunc.(new_matrix);"
   ]
  },
  {
   "cell_type": "code",
   "execution_count": 4,
   "metadata": {},
   "outputs": [],
   "source": [
    "# Getting samples\n",
    "\n",
    "# defining random indices\n",
    "x_index = zeros(SAMPLE_SIZE)\n",
    "y_index = zeros(SAMPLE_SIZE)\n",
    "\n",
    "Random.rand!(x_index, collect(1:SERIES_SIZE-3))\n",
    "Random.rand!(y_index, collect(1:SERIES_SIZE-3))\n",
    "\n",
    "x_index = trunc.(Int, x_index)\n",
    "y_index = trunc.(Int, y_index);\n",
    "\n",
    "\n",
    "sample = []\n",
    "for (x, y) in zip(x_index, y_index)\n",
    "    push!(sample, matrix[x:x+3, y:y+3])\n",
    "end;"
   ]
  },
  {
   "cell_type": "code",
   "execution_count": 5,
   "metadata": {},
   "outputs": [],
   "source": [
    "# This generates all possible matrices with N=4\n",
    "# It also creates a second list with matrices sorted by class, where the index\n",
    "# is <number of recurrences> + 1\n",
    "\n",
    "# making 9 fors. I'm sorry.\n",
    "possible_matrices = []\n",
    "for a in 0:1, b in 0:1, c in 0:1, d in 0:1,\n",
    "    e in 0:1, f in 0:1, g in 0:1, h in 0:1,\n",
    "    i in 0:1, j in 0:1, k in 0:1, l in 0:1,\n",
    "    m in 0:1, n in 0:1, o in 0:1, p in 0:1\n",
    "\n",
    "    push!(possible_matrices, [a b c d; e f g h; i j k l; m n o p])\n",
    "end\n",
    "\n",
    "possible_matrices_by_class = [[] for i in 1:17] # frin class 0 to 16 inclusive\n",
    "\n",
    "for i in possible_matrices, j in 1:17\n",
    "    if sum(i) == j-1\n",
    "        push!(possible_matrices_by_class[j], i)\n",
    "    end\n",
    "end"
   ]
  },
  {
   "cell_type": "code",
   "execution_count": 6,
   "metadata": {},
   "outputs": [],
   "source": [
    "# comparing sample with possible_matrices\n",
    "# this also sorts the obtained matrices into their respective classes\n",
    "counts = zeros(size(possible_matrices))\n",
    "sorted_by_class = [[] for i in 1:17]\n",
    "\n",
    "sample_copy = copy(sample)\n",
    "\n",
    "while size(sample_copy)[1] > 0\n",
    "    current_matrix = pop!(sample_copy)\n",
    "    push!(sorted_by_class[trunc(Int, sum(current_matrix) + 1)], current_matrix)\n",
    "    for (i, j) in enumerate(possible_matrices)\n",
    "        if current_matrix == j\n",
    "            counts[i] += 1\n",
    "            break\n",
    "        end\n",
    "    end\n",
    "\n",
    "end\n"
   ]
  },
  {
   "cell_type": "code",
   "execution_count": 7,
   "metadata": {},
   "outputs": [],
   "source": [
    "# counting, for each class, the ocurrences of each microstate\n",
    "counts_by_class = [[] for i in 1:17]\n",
    "\n",
    "for (class, possible_iter) in enumerate(possible_matrices_by_class)\n",
    "    counts_iter = zeros(size(possible_iter))\n",
    "    for k in sorted_by_class[class]\n",
    "        for (i, j) in enumerate(possible_iter)\n",
    "            if k == j\n",
    "                counts_iter[i] += 1\n",
    "                break\n",
    "            end\n",
    "        end\n",
    "    end\n",
    "    push!(counts_by_class[class], counts_iter)\n",
    "end"
   ]
  },
  {
   "cell_type": "code",
   "execution_count": 8,
   "metadata": {},
   "outputs": [],
   "source": [
    "# Saving some data\n",
    "open(\"test.txt\", \"w\") do file\n",
    "    for i in counts_by_class\n",
    "        write(file, \"$(collect(i...))\\n\")\n",
    "    end\n",
    "end\n",
    "\n",
    "open(\"../matrices.txt\", \"w\") do file\n",
    "    for i in possible_matrices_by_class\n",
    "        write(file, \"$(i)\\n\")\n",
    "    end\n",
    "end\n",
    "    "
   ]
  },
  {
   "cell_type": "code",
   "execution_count": 9,
   "metadata": {},
   "outputs": [
    {
     "name": "stdout",
     "output_type": "stream",
     "text": [
      "1,  (1,)\n",
      "2,  (16,)\n",
      "3,  (120,)\n",
      "4,  (560,)\n",
      "5,  (1820,)\n",
      "6,  (4368,)\n",
      "7,  (8008,)\n",
      "8,  (11440,)\n",
      "9,  (12870,)\n",
      "10,  (11440,)\n",
      "11,  (8008,)\n",
      "12,  (4368,)\n",
      "13,  (1820,)\n",
      "14,  (560,)\n",
      "15,  (120,)\n",
      "16,  (16,)\n",
      "17,  (1,)\n"
     ]
    }
   ],
   "source": [
    "for i in 1:size(possible_matrices_by_class)[1]\n",
    "    println(\"$(i),  $(size(possible_matrices_by_class[i]))\")\n",
    "end"
   ]
  },
  {
   "cell_type": "code",
   "execution_count": 10,
   "metadata": {},
   "outputs": [],
   "source": [
    "for i in 1:10\n",
    "    fig = plt.figure()\n",
    "    plt.suptitle(\"$(i-1) recurrences\")\n",
    "    plt.hist(counts_by_class[i], 40)\n",
    "    \n",
    "end"
   ]
  },
  {
   "cell_type": "code",
   "execution_count": 11,
   "metadata": {},
   "outputs": [],
   "source": [
    "plt.close()\n",
    "plt.hist(counts, 300);"
   ]
  },
  {
   "cell_type": "code",
   "execution_count": 12,
   "metadata": {},
   "outputs": [
    {
     "data": {
      "text/plain": [
       "PyObject <matplotlib.collections.PathCollection object at 0x7f3802176ca0>"
      ]
     },
     "metadata": {},
     "output_type": "display_data"
    }
   ],
   "source": [
    "plt.close()\n",
    "plt.scatter(collect(1:512), counts, s=.5)"
   ]
  },
  {
   "cell_type": "code",
   "execution_count": 13,
   "metadata": {},
   "outputs": [],
   "source": [
    "for i in 1:10\n",
    "    fig = plt.figure()\n",
    "    plt.suptitle(\"$(i-1) recurrences\")\n",
    "    plt.scatter(collect(1:size(collect(counts_by_class[i]...))[1]), counts_by_class[i], s=.75);\n",
    "end"
   ]
  },
  {
   "cell_type": "markdown",
   "metadata": {},
   "source": [
    "# Clusterizing it (Probably)"
   ]
  },
  {
   "cell_type": "code",
   "execution_count": 14,
   "metadata": {},
   "outputs": [],
   "source": [
    "# the function Clustering.hclust needs the distances pre-calculated\n",
    "\n",
    "# testing for 4 recurrences\n",
    "d_size = size(collect(counts_by_class[4]...))[1]\n",
    "distance_matrix = zeros((d_size, d_size))\n",
    "\n",
    "for (i, iitem) in enumerate(counts_by_class[4]...),\n",
    "    (j, jitem) in enumerate(counts_by_class[4]...)\n",
    "    \n",
    "    distance_matrix[i, j] = abs(iitem - jitem)\n",
    "end"
   ]
  },
  {
   "cell_type": "code",
   "execution_count": 15,
   "metadata": {},
   "outputs": [
    {
     "ename": "UndefVarError",
     "evalue": "UndefVarError: Clustering not defined",
     "output_type": "error",
     "traceback": [
      "UndefVarError: Clustering not defined\n",
      "\n",
      "Stacktrace:\n",
      "  [1] top-level scope\n",
      "    @ ~/hds/E/Virei Hominho/Projetos/julia/recurrence/n3test/hierarchical_clustering_test/n3_stochastic_data.ipynb:1\n",
      "  [2] eval\n",
      "    @ ./boot.jl:373 [inlined]\n",
      "  [3] include_string(mapexpr::typeof(REPL.softscope), mod::Module, code::String, filename::String)\n",
      "    @ Base ./loading.jl:1196\n",
      "  [4] #invokelatest#2\n",
      "    @ ./essentials.jl:716 [inlined]\n",
      "  [5] invokelatest\n",
      "    @ ./essentials.jl:714 [inlined]\n",
      "  [6] (::VSCodeServer.var\"#164#165\"{VSCodeServer.NotebookRunCellArguments, String})()\n",
      "    @ VSCodeServer ~/.vscode/extensions/julialang.language-julia-1.6.24/scripts/packages/VSCodeServer/src/serve_notebook.jl:19\n",
      "  [7] withpath(f::VSCodeServer.var\"#164#165\"{VSCodeServer.NotebookRunCellArguments, String}, path::String)\n",
      "    @ VSCodeServer ~/.vscode/extensions/julialang.language-julia-1.6.24/scripts/packages/VSCodeServer/src/repl.jl:184\n",
      "  [8] notebook_runcell_request(conn::VSCodeServer.JSONRPC.JSONRPCEndpoint{Base.PipeEndpoint, Base.PipeEndpoint}, params::VSCodeServer.NotebookRunCellArguments)\n",
      "    @ VSCodeServer ~/.vscode/extensions/julialang.language-julia-1.6.24/scripts/packages/VSCodeServer/src/serve_notebook.jl:13\n",
      "  [9] dispatch_msg(x::VSCodeServer.JSONRPC.JSONRPCEndpoint{Base.PipeEndpoint, Base.PipeEndpoint}, dispatcher::VSCodeServer.JSONRPC.MsgDispatcher, msg::Dict{String, Any})\n",
      "    @ VSCodeServer.JSONRPC ~/.vscode/extensions/julialang.language-julia-1.6.24/scripts/packages/JSONRPC/src/typed.jl:67\n",
      " [10] serve_notebook(pipename::String, outputchannel_logger::Base.CoreLogging.SimpleLogger; crashreporting_pipename::String)\n",
      "    @ VSCodeServer ~/.vscode/extensions/julialang.language-julia-1.6.24/scripts/packages/VSCodeServer/src/serve_notebook.jl:136\n",
      " [11] top-level scope\n",
      "    @ ~/.vscode/extensions/julialang.language-julia-1.6.24/scripts/notebook/notebook.jl:32\n",
      " [12] include(mod::Module, _path::String)\n",
      "    @ Base ./Base.jl:418\n",
      " [13] exec_options(opts::Base.JLOptions)\n",
      "    @ Base ./client.jl:292\n",
      " [14] _start()\n",
      "    @ Base ./client.jl:495"
     ]
    }
   ],
   "source": [
    "result = Clustering.hclust(distance_matrix; linkage = :average)"
   ]
  },
  {
   "cell_type": "code",
   "execution_count": 16,
   "metadata": {},
   "outputs": [
    {
     "ename": "ErrorException",
     "evalue": "syntax: incomplete: premature end of input",
     "output_type": "error",
     "traceback": [
      "syntax: incomplete: premature end of input\n",
      "\n",
      "Stacktrace:\n",
      "  [1] top-level scope\n",
      "    @ ~/hds/E/Virei Hominho/Projetos/julia/recurrence/n3test/hierarchical_clustering_test/n3_stochastic_data.ipynb:2\n",
      "  [2] eval\n",
      "    @ ./boot.jl:373 [inlined]\n",
      "  [3] include_string(mapexpr::typeof(REPL.softscope), mod::Module, code::String, filename::String)\n",
      "    @ Base ./loading.jl:1196\n",
      "  [4] #invokelatest#2\n",
      "    @ ./essentials.jl:716 [inlined]\n",
      "  [5] invokelatest\n",
      "    @ ./essentials.jl:714 [inlined]\n",
      "  [6] (::VSCodeServer.var\"#164#165\"{VSCodeServer.NotebookRunCellArguments, String})()\n",
      "    @ VSCodeServer ~/.vscode/extensions/julialang.language-julia-1.6.24/scripts/packages/VSCodeServer/src/serve_notebook.jl:19\n",
      "  [7] withpath(f::VSCodeServer.var\"#164#165\"{VSCodeServer.NotebookRunCellArguments, String}, path::String)\n",
      "    @ VSCodeServer ~/.vscode/extensions/julialang.language-julia-1.6.24/scripts/packages/VSCodeServer/src/repl.jl:184\n",
      "  [8] notebook_runcell_request(conn::VSCodeServer.JSONRPC.JSONRPCEndpoint{Base.PipeEndpoint, Base.PipeEndpoint}, params::VSCodeServer.NotebookRunCellArguments)\n",
      "    @ VSCodeServer ~/.vscode/extensions/julialang.language-julia-1.6.24/scripts/packages/VSCodeServer/src/serve_notebook.jl:13\n",
      "  [9] dispatch_msg(x::VSCodeServer.JSONRPC.JSONRPCEndpoint{Base.PipeEndpoint, Base.PipeEndpoint}, dispatcher::VSCodeServer.JSONRPC.MsgDispatcher, msg::Dict{String, Any})\n",
      "    @ VSCodeServer.JSONRPC ~/.vscode/extensions/julialang.language-julia-1.6.24/scripts/packages/JSONRPC/src/typed.jl:67\n",
      " [10] serve_notebook(pipename::String, outputchannel_logger::Base.CoreLogging.SimpleLogger; crashreporting_pipename::String)\n",
      "    @ VSCodeServer ~/.vscode/extensions/julialang.language-julia-1.6.24/scripts/packages/VSCodeServer/src/serve_notebook.jl:136\n",
      " [11] top-level scope\n",
      "    @ ~/.vscode/extensions/julialang.language-julia-1.6.24/scripts/notebook/notebook.jl:32\n",
      " [12] include(mod::Module, _path::String)\n",
      "    @ Base ./Base.jl:418\n",
      " [13] exec_options(opts::Base.JLOptions)\n",
      "    @ Base ./client.jl:292\n",
      " [14] _start()\n",
      "    @ Base ./client.jl:495"
     ]
    }
   ],
   "source": [
    "plt.figure()\n",
    "for i in r"
   ]
  },
  {
   "cell_type": "code",
   "execution_count": 17,
   "metadata": {},
   "outputs": [
    {
     "ename": "UndefVarError",
     "evalue": "UndefVarError: result not defined",
     "output_type": "error",
     "traceback": [
      "UndefVarError: result not defined\n",
      "\n",
      "Stacktrace:\n",
      "  [1] top-level scope\n",
      "    @ ~/hds/E/Virei Hominho/Projetos/julia/recurrence/n3test/hierarchical_clustering_test/n3_stochastic_data.ipynb:1\n",
      "  [2] eval\n",
      "    @ ./boot.jl:373 [inlined]\n",
      "  [3] include_string(mapexpr::typeof(REPL.softscope), mod::Module, code::String, filename::String)\n",
      "    @ Base ./loading.jl:1196\n",
      "  [4] #invokelatest#2\n",
      "    @ ./essentials.jl:716 [inlined]\n",
      "  [5] invokelatest\n",
      "    @ ./essentials.jl:714 [inlined]\n",
      "  [6] (::VSCodeServer.var\"#164#165\"{VSCodeServer.NotebookRunCellArguments, String})()\n",
      "    @ VSCodeServer ~/.vscode/extensions/julialang.language-julia-1.6.24/scripts/packages/VSCodeServer/src/serve_notebook.jl:19\n",
      "  [7] withpath(f::VSCodeServer.var\"#164#165\"{VSCodeServer.NotebookRunCellArguments, String}, path::String)\n",
      "    @ VSCodeServer ~/.vscode/extensions/julialang.language-julia-1.6.24/scripts/packages/VSCodeServer/src/repl.jl:184\n",
      "  [8] notebook_runcell_request(conn::VSCodeServer.JSONRPC.JSONRPCEndpoint{Base.PipeEndpoint, Base.PipeEndpoint}, params::VSCodeServer.NotebookRunCellArguments)\n",
      "    @ VSCodeServer ~/.vscode/extensions/julialang.language-julia-1.6.24/scripts/packages/VSCodeServer/src/serve_notebook.jl:13\n",
      "  [9] dispatch_msg(x::VSCodeServer.JSONRPC.JSONRPCEndpoint{Base.PipeEndpoint, Base.PipeEndpoint}, dispatcher::VSCodeServer.JSONRPC.MsgDispatcher, msg::Dict{String, Any})\n",
      "    @ VSCodeServer.JSONRPC ~/.vscode/extensions/julialang.language-julia-1.6.24/scripts/packages/JSONRPC/src/typed.jl:67\n",
      " [10] serve_notebook(pipename::String, outputchannel_logger::Base.CoreLogging.SimpleLogger; crashreporting_pipename::String)\n",
      "    @ VSCodeServer ~/.vscode/extensions/julialang.language-julia-1.6.24/scripts/packages/VSCodeServer/src/serve_notebook.jl:136\n",
      " [11] top-level scope\n",
      "    @ ~/.vscode/extensions/julialang.language-julia-1.6.24/scripts/notebook/notebook.jl:32\n",
      " [12] include(mod::Module, _path::String)\n",
      "    @ Base ./Base.jl:418\n",
      " [13] exec_options(opts::Base.JLOptions)\n",
      "    @ Base ./client.jl:292\n",
      " [14] _start()\n",
      "    @ Base ./client.jl:495"
     ]
    }
   ],
   "source": [
    "for i in 1:size(result.merges)[1]\n",
    "    println(\"$(result.merges[i, :])     $(result.heights[i])\")\n",
    "end\n",
    "#plt.scatter(result.merges[:, 1], result.merges[:, 2])"
   ]
  },
  {
   "cell_type": "code",
   "execution_count": 18,
   "metadata": {},
   "outputs": [],
   "source": []
  }
 ],
 "metadata": {
  "kernelspec": {
   "display_name": "Julia 1.7.3",
   "language": "julia",
   "name": "julia-1.7"
  },
  "language_info": {
   "file_extension": ".jl",
   "mimetype": "application/julia",
   "name": "julia",
   "version": "1.7.3"
  },
  "orig_nbformat": 4,
  "vscode": {
   "interpreter": {
    "hash": "31f2aee4e71d21fbe5cf8b01ff0e069b9275f58929596ceb00d14d90e3e16cd6"
   }
  }
 },
 "nbformat": 4,
 "nbformat_minor": 2
}

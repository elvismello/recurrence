{
 "cells": [
  {
   "cell_type": "code",
   "execution_count": 1,
   "metadata": {},
   "outputs": [],
   "source": [
    "import SignalAnalysis as SA\n",
    "import DynamicalSystems as DS\n",
    "import DynamicalSystems.RecurrenceAnalysis as RA\n",
    "import Random\n",
    "import PyPlot as plt\n",
    "\n",
    "#import Clustering"
   ]
  },
  {
   "cell_type": "markdown",
   "metadata": {},
   "source": [
    "# TODO\n",
    "\n",
    "1.  DONE Make a histogram for every number of recurrences. DONE\n",
    "    *   Can be interesting.\n",
    "2.  Be carefull with sampling. Always use the same percentage when altering series size.\n",
    "3.  analyse what happens to gamma when resizing the time series.\n",
    "    *   make a graph\n",
    "    *   if it tends to a constant value, clustering is probably wrong."
   ]
  },
  {
   "cell_type": "markdown",
   "metadata": {},
   "source": [
    "# Generating data and organizing it\n",
    "#### (with some plots along the way) ####"
   ]
  },
  {
   "cell_type": "code",
   "execution_count": 9,
   "metadata": {},
   "outputs": [
    {
     "data": {
      "text/plain": [
       "1000-element Vector{Float64}:\n",
       " -0.27566453961776377\n",
       " -0.1595384872793164\n",
       "  0.47426954543845673\n",
       "  0.2256764819958952\n",
       "  0.7984840444588129\n",
       " -0.1730937282928079\n",
       "  1.411025896979595\n",
       "  1.2586883029994278\n",
       "  0.5371241103682419\n",
       "  0.6077239636493147\n",
       "  ⋮\n",
       " -1.369434120008417\n",
       " -1.3265938919968678\n",
       " -1.2312549261931245\n",
       " -1.7229132313588327\n",
       " -2.917208959724256\n",
       " -0.9373667389100737\n",
       " -0.9053474978675853\n",
       " -1.5278549042417076\n",
       " -0.4608791906331504"
      ]
     },
     "metadata": {},
     "output_type": "display_data"
    }
   ],
   "source": [
    "SERIES_SIZE = 1000\n",
    "SAMPLE_SIZE = 100000\n",
    "\n",
    "TRAJECTORY_TYPE = 'PinkGaussian' # Or constant or RedGaussian\n",
    "\n",
    "# generating stochastic data\n",
    "# constant distribution\n",
    "#trajectory = zeros(SERIES_SIZE)\n",
    "#Random.rand!(trajectory);\n",
    "\n",
    "# PinkGaussian\n",
    "trajectory = rand(SA.PinkGaussian(1000))\n"
   ]
  },
  {
   "cell_type": "code",
   "execution_count": 3,
   "metadata": {},
   "outputs": [],
   "source": [
    "# getting recurrence matrix\n",
    "matrix = RA.RecurrenceMatrix(trajectory, 0.28)\n",
    "\n",
    "new_matrix = zeros((SERIES_SIZE, SERIES_SIZE))\n",
    "for i in 1:SERIES_SIZE, j in 1:SERIES_SIZE\n",
    "    new_matrix[i, j] = 1 * matrix[i, j]    \n",
    "end\n",
    "matrix = trunc.(new_matrix);"
   ]
  },
  {
   "cell_type": "code",
   "execution_count": 4,
   "metadata": {},
   "outputs": [],
   "source": [
    "# Getting samples\n",
    "\n",
    "# defining random indices\n",
    "x_index = zeros(SAMPLE_SIZE)\n",
    "y_index = zeros(SAMPLE_SIZE)\n",
    "\n",
    "Random.rand!(x_index, collect(1:SERIES_SIZE-2))\n",
    "Random.rand!(y_index, collect(1:SERIES_SIZE-2))\n",
    "\n",
    "x_index = trunc.(Int, x_index)\n",
    "y_index = trunc.(Int, y_index);\n",
    "\n",
    "\n",
    "sample = []\n",
    "for (x, y) in zip(x_index, y_index)\n",
    "    push!(sample, matrix[x:x+2, y:y+2])\n",
    "end;"
   ]
  },
  {
   "cell_type": "code",
   "execution_count": 5,
   "metadata": {},
   "outputs": [],
   "source": [
    "# This generates all possible matrices with N=3\n",
    "# It also creates a second list with matrices sorted by class, where the index\n",
    "# is <number of recurrences> + 1\n",
    "\n",
    "# making 9 fors. I'm sorry.\n",
    "possible_matrices = []\n",
    "for a in 0:1, b in 0:1, c in 0:1,\n",
    "    d in 0:1, e in 0:1, f in 0:1,\n",
    "    g in 0:1, h in 0:1, i in 0:1\n",
    "\n",
    "    push!(possible_matrices, [a b c; d e f; g h i])\n",
    "end\n",
    "\n",
    "possible_matrices_by_class = [[] for i in 1:10]\n",
    "\n",
    "for i in possible_matrices, j in 1:10\n",
    "    if sum(i) == j-1\n",
    "        push!(possible_matrices_by_class[j], i)\n",
    "    end\n",
    "end"
   ]
  },
  {
   "cell_type": "code",
   "execution_count": 6,
   "metadata": {},
   "outputs": [],
   "source": [
    "# comparing sample with possible_matrices\n",
    "# this also sorts the obtained matrices into their respective classes\n",
    "counts = zeros(size(possible_matrices))\n",
    "sorted_by_class = [[] for i in 1:10]\n",
    "\n",
    "sample_copy = copy(sample)\n",
    "\n",
    "while size(sample_copy)[1] > 0\n",
    "    current_matrix = pop!(sample_copy)\n",
    "    push!(sorted_by_class[trunc(Int, sum(current_matrix) + 1)], current_matrix)\n",
    "    for (i, j) in enumerate(possible_matrices)\n",
    "        if current_matrix == j\n",
    "            counts[i] += 1\n",
    "            break\n",
    "        end\n",
    "    end\n",
    "\n",
    "end\n"
   ]
  },
  {
   "cell_type": "code",
   "execution_count": 7,
   "metadata": {},
   "outputs": [],
   "source": [
    "# counting, for each class, the ocurrences of each microstate\n",
    "counts_by_class = [[] for i in 1:10]\n",
    "\n",
    "for (class, possible_iter) in enumerate(possible_matrices_by_class)\n",
    "    counts_iter = zeros(size(possible_iter))\n",
    "    for k in sorted_by_class[class]\n",
    "        for (i, j) in enumerate(possible_iter)\n",
    "            if k == j\n",
    "                counts_iter[i] += 1\n",
    "                break\n",
    "            end\n",
    "        end\n",
    "    end\n",
    "    push!(counts_by_class[class], counts_iter)\n",
    "end"
   ]
  },
  {
   "cell_type": "code",
   "execution_count": 8,
   "metadata": {},
   "outputs": [],
   "source": [
    "# Saving some data\n",
    "open(\"test.txt\", \"w\") do file\n",
    "    for i in counts_by_class\n",
    "        write(file, \"$(collect(i...))\\n\")\n",
    "    end\n",
    "end\n",
    "\n",
    "open(\"../matrices.txt\", \"w\") do file\n",
    "    for i in possible_matrices_by_class\n",
    "        write(file, \"$(i)\\n\")\n",
    "    end\n",
    "end\n",
    "    "
   ]
  },
  {
   "cell_type": "code",
   "execution_count": 9,
   "metadata": {},
   "outputs": [
    {
     "name": "stdout",
     "output_type": "stream",
     "text": [
      "1,  (1,)\n",
      "2,  (9,)\n",
      "3,  (36,)\n",
      "4,  (84,)\n",
      "5,  (126,)\n",
      "6,  (126,)\n",
      "7,  (84,)\n",
      "8,  (36,)\n",
      "9,  (9,)\n",
      "10,  (1,)\n"
     ]
    }
   ],
   "source": [
    "for i in 1:size(possible_matrices_by_class)[1]\n",
    "    println(\"$(i),  $(size(possible_matrices_by_class[i]))\")\n",
    "end"
   ]
  },
  {
   "cell_type": "code",
   "execution_count": 10,
   "metadata": {},
   "outputs": [],
   "source": [
    "for i in 1:10\n",
    "    fig = plt.figure()\n",
    "    plt.suptitle(\"$(i-1) recurrences\")\n",
    "    plt.hist(counts_by_class[i], 40)\n",
    "    \n",
    "end"
   ]
  },
  {
   "cell_type": "code",
   "execution_count": null,
   "metadata": {},
   "outputs": [],
   "source": [
    "plt.close()\n",
    "plt.hist(counts, 300);"
   ]
  },
  {
   "cell_type": "code",
   "execution_count": 12,
   "metadata": {},
   "outputs": [
    {
     "data": {
      "text/plain": [
       "PyObject <matplotlib.collections.PathCollection object at 0x7f3802176ca0>"
      ]
     },
     "metadata": {},
     "output_type": "display_data"
    }
   ],
   "source": [
    "plt.close()\n",
    "plt.scatter(collect(1:512), counts, s=.5)"
   ]
  },
  {
   "cell_type": "code",
   "execution_count": 13,
   "metadata": {},
   "outputs": [],
   "source": [
    "for i in 1:10\n",
    "    fig = plt.figure()\n",
    "    plt.suptitle(\"$(i-1) recurrences\")\n",
    "    plt.scatter(collect(1:size(collect(counts_by_class[i]...))[1]), counts_by_class[i], s=.75);\n",
    "end"
   ]
  },
  {
   "cell_type": "markdown",
   "metadata": {},
   "source": [
    "# Clusterizing it (Probably)"
   ]
  },
  {
   "cell_type": "code",
   "execution_count": 14,
   "metadata": {},
   "outputs": [],
   "source": [
    "# the function Clustering.hclust needs the distances pre-calculated\n",
    "\n",
    "# testing for 4 recurrences\n",
    "d_size = size(collect(counts_by_class[4]...))[1]\n",
    "distance_matrix = zeros((d_size, d_size))\n",
    "\n",
    "for (i, iitem) in enumerate(counts_by_class[4]...),\n",
    "    (j, jitem) in enumerate(counts_by_class[4]...)\n",
    "    \n",
    "    distance_matrix[i, j] = abs(iitem - jitem)\n",
    "end"
   ]
  },
  {
   "cell_type": "code",
   "execution_count": 18,
   "metadata": {},
   "outputs": [],
   "source": []
  }
 ],
 "metadata": {
  "kernelspec": {
   "display_name": "Julia 1.7.3",
   "language": "julia",
   "name": "julia-1.7"
  },
  "language_info": {
   "file_extension": ".jl",
   "mimetype": "application/julia",
   "name": "julia",
   "version": "1.7.3"
  },
  "orig_nbformat": 4,
  "vscode": {
   "interpreter": {
    "hash": "31f2aee4e71d21fbe5cf8b01ff0e069b9275f58929596ceb00d14d90e3e16cd6"
   }
  }
 },
 "nbformat": 4,
 "nbformat_minor": 2
}

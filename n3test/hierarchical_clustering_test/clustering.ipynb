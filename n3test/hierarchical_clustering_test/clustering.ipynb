{
 "cells": [
  {
   "cell_type": "code",
   "execution_count": 2,
   "metadata": {},
   "outputs": [],
   "source": [
    "import numpy as np\n",
    "from matplotlib import pyplot as plt\n",
    "from scipy.cluster.hierarchy import dendrogram\n",
    "from sklearn.cluster import AgglomerativeClustering\n",
    "import os"
   ]
  },
  {
   "cell_type": "markdown",
   "metadata": {},
   "source": [
    "### Functions"
   ]
  },
  {
   "cell_type": "code",
   "execution_count": 3,
   "metadata": {},
   "outputs": [],
   "source": [
    "def plot_dendrogram(model, ax, **kwargs):\n",
    "    # Create linkage matrix and then plot the dendrogram\n",
    "\n",
    "    # create the counts of samples under each node\n",
    "    counts = np.zeros(model.children_.shape[0])\n",
    "    n_samples = len(model.labels_)\n",
    "    for i, merge in enumerate(model.children_):\n",
    "        current_count = 0\n",
    "        for child_idx in merge:\n",
    "            if child_idx < n_samples:\n",
    "                current_count += 1  # leaf node\n",
    "            else:\n",
    "                current_count += counts[child_idx - n_samples]\n",
    "        counts[i] = current_count\n",
    "\n",
    "    linkage_matrix = np.column_stack(\n",
    "        [model.children_, model.distances_, counts]\n",
    "    ).astype(float)\n",
    "\n",
    "    # Plot the corresponding dendrogram\n",
    "    dendrogram(linkage_matrix, ax=ax, **kwargs)\n",
    "\n",
    "\n",
    "# Calculates the sum of distances in a list, returning the sum and the list\n",
    "# size\n",
    "def big_d_r (list):\n",
    "    sum = 0.0\n",
    "    for i in list:\n",
    "        for j in list:\n",
    "            sum += abs(i - j)\n",
    "    return sum, len(list)"
   ]
  },
  {
   "cell_type": "markdown",
   "metadata": {},
   "source": [
    "### Getting Data"
   ]
  },
  {
   "cell_type": "code",
   "execution_count": 4,
   "metadata": {},
   "outputs": [
    {
     "name": "stdout",
     "output_type": "stream",
     "text": [
      "['0 0 0; 0 0 0; 0 0 0']\n"
     ]
    }
   ],
   "source": [
    "# reading file and getting data\n",
    "\n",
    "with open(\"../test.txt\", \"r\") as file:\n",
    "    lines = file.readlines()\n",
    "    lines = [i.strip(\"[]\\n\") for i in lines]\n",
    "    lines = [i.split(\", \") for i in lines]\n",
    "    lines = [np.array(i, dtype=\"float64\") for i in lines]\n",
    "\n",
    "with open(\"matrices.txt\", \"r\") as file:\n",
    "    matrices_lines = file.readlines()\n",
    "    to_be_removed = \"][\"\n",
    "    for i, string in enumerate(matrices_lines):\n",
    "        for char in to_be_removed:\n",
    "            string = string.replace(char, \"\")\n",
    "        matrices_lines[i] = string\n",
    "    matrices_lines = [i.split(\"\\n\") for i in matrices_lines]\n",
    "    for i, matrices_class in enumerate(matrices_lines):\n",
    "        matrices_lines[i] = [iter.split(\", \") for iter in matrices_class]\n",
    "    for i, j in enumerate(matrices_lines):\n",
    "        matrices_lines[i] = matrices_lines[i][0]\n",
    "    \n",
    "#formatting individual matrices\n",
    "#for i, line in enumerate(matrices_lines):\n",
    "#    for j, matrix in enumerate(line):\n",
    "#        matrix = matrix.split(\"; \")\n",
    "#        matrix = np.array([iter.split(\" \") for iter in matrix], dtype='int16')\n",
    "#        line[j] = matrix\n",
    "#    matrices_lines[i] = line\n",
    "\n",
    "print(matrices_lines[0])\n",
    "#for i in matrices_lines:\n",
    "#    print(i)\n"
   ]
  },
  {
   "cell_type": "markdown",
   "metadata": {},
   "source": [
    "### not so useful tests"
   ]
  },
  {
   "cell_type": "code",
   "execution_count": null,
   "metadata": {},
   "outputs": [],
   "source": [
    "\n",
    "# interating over diffent quantities of groups\n",
    "for i, recurrence_class in enumerate(lines[1:-1]):\n",
    "    for number_of_groups in range(2, 9):\n",
    "        try:\n",
    "            os.mkdir(f\"randomTest/class{i+1}\")\n",
    "        except:\n",
    "            print(f\"Directory class{i+1} already exists\", end='\\r', flush=True)\n",
    "\n",
    "\n",
    "\n",
    "        # Setting general graph properties\n",
    "        fig, axes = plt.subplots(4, 1, figsize=(10, 20), constrained_layout=True)\n",
    "        fig.suptitle(f\"Cluster Dendrogram for Class {i+1}\")\n",
    "\n",
    "        for linkage_type, ax in zip([\"single\", \"complete\", \"average\", \"ward\"], axes):\n",
    "\n",
    "            clustering = AgglomerativeClustering(n_clusters=number_of_groups,\n",
    "                                                distance_threshold=None,\n",
    "                                                linkage=linkage_type,\n",
    "                                                compute_distances=True,\n",
    "                                                compute_full_tree=True)\n",
    "            model = clustering.fit(recurrence_class.reshape(-1, 1))\n",
    "\n",
    "            # plot the dendrograms\n",
    "            ax.set_xlabel(\"Matrix number\")\n",
    "            ax.set_ylabel(\"\\\"Proximity\\\"\")\n",
    "            #plot_dendrogram(model, ax, truncate_mode=\"level\", p=7)\n",
    "            plot_dendrogram(model, ax, color_threshold=100)\n",
    "            ax.set_ylim(0, 30)\n",
    "            ax.set_title(f\"Linkage: {linkage_type}\")\n",
    "\n",
    "        fig.savefig(f\"randomTest/class{i+1}/n3test.class{i+1}.{number_of_groups:02d}groups.jpg\", dpi=150)\n",
    "        plt.close(fig)"
   ]
  },
  {
   "cell_type": "code",
   "execution_count": 23,
   "metadata": {},
   "outputs": [
    {
     "name": "stdout",
     "output_type": "stream",
     "text": [
      "(1842.0, 6)\n",
      "(43804.0, 42)\n",
      "(33846.0, 36)\n"
     ]
    },
    {
     "data": {
      "text/plain": [
       "1145.0595238095239"
      ]
     },
     "execution_count": 23,
     "metadata": {},
     "output_type": "execute_result"
    }
   ],
   "source": [
    "color_threshold = 100\n",
    "linkage_type = \"complete\"\n",
    "number_of_groups = 3\n",
    "class_number = 3\n",
    "recurrence_class = lines[class_number]\n",
    "\n",
    "clustering = AgglomerativeClustering(n_clusters=number_of_groups,\n",
    "                                      distance_threshold=None,\n",
    "                                      linkage=linkage_type,\n",
    "                                      compute_distances=True,\n",
    "                                      compute_full_tree=True)\n",
    "model = clustering.fit(recurrence_class.reshape(-1, 1))\n",
    "\n",
    "#fig, ax = plt.subplots(1, 1, figsize=(15, 7))\n",
    "#plot_dendrogram(model, ax, color_threshold=color_threshold)\n",
    "#ax.set_ylim((0, 150))\n",
    "#ax.axhline(color_threshold, c='black')\n",
    "#fig.savefig('test.svg')\n",
    "\n",
    "matrices_by_labels = [[] for i in range(number_of_groups)]\n",
    "for i, j in zip(model.labels_, matrices_lines[class_number]):\n",
    "    matrices_by_labels[i].append(j)\n",
    "\n",
    "lines_by_labels = [[] for i in range(number_of_groups)]\n",
    "for i, j in zip(model.labels_, lines[class_number]):\n",
    "    lines_by_labels[i].append(j)\n",
    "\n",
    "# calculating big_w_k\n",
    "w = 0.0\n",
    "for i in lines_by_labels:\n",
    "    print(big_d_r(i))\n",
    "    sum, sum_size = big_d_r(i)\n",
    "    w += sum / (2 * sum_size)"
   ]
  },
  {
   "cell_type": "code",
   "execution_count": 16,
   "metadata": {
    "scrolled": false
   },
   "outputs": [
    {
     "name": "stdout",
     "output_type": "stream",
     "text": [
      "label: 0\n",
      "1232.0\n",
      "1166.0\n",
      "1197.0\n",
      "1152.0\n",
      "1089.0\n",
      "1133.0\n",
      "\n",
      "\n",
      "\n",
      "label: 1\n",
      "61.0\n",
      "43.0\n",
      "55.0\n",
      "72.0\n",
      "75.0\n",
      "52.0\n",
      "39.0\n",
      "67.0\n",
      "42.0\n",
      "65.0\n",
      "70.0\n",
      "53.0\n",
      "57.0\n",
      "36.0\n",
      "136.0\n",
      "59.0\n",
      "116.0\n",
      "64.0\n",
      "53.0\n",
      "45.0\n",
      "119.0\n",
      "81.0\n",
      "107.0\n",
      "68.0\n",
      "53.0\n",
      "68.0\n",
      "56.0\n",
      "50.0\n",
      "56.0\n",
      "43.0\n",
      "108.0\n",
      "131.0\n",
      "85.0\n",
      "58.0\n",
      "70.0\n",
      "62.0\n",
      "49.0\n",
      "62.0\n",
      "82.0\n",
      "68.0\n",
      "63.0\n",
      "57.0\n",
      "\n",
      "\n",
      "\n",
      "label: 2\n",
      "292.0\n",
      "291.0\n",
      "286.0\n",
      "258.0\n",
      "291.0\n",
      "235.0\n",
      "228.0\n",
      "270.0\n",
      "221.0\n",
      "284.0\n",
      "291.0\n",
      "265.0\n",
      "271.0\n",
      "286.0\n",
      "219.0\n",
      "271.0\n",
      "276.0\n",
      "209.0\n",
      "259.0\n",
      "276.0\n",
      "242.0\n",
      "264.0\n",
      "246.0\n",
      "245.0\n",
      "227.0\n",
      "242.0\n",
      "249.0\n",
      "248.0\n",
      "252.0\n",
      "268.0\n",
      "270.0\n",
      "220.0\n",
      "243.0\n",
      "257.0\n",
      "243.0\n",
      "248.0\n",
      "\n",
      "\n",
      "\n"
     ]
    }
   ],
   "source": [
    "#for i, j in enumerate(matrices_by_labels):\n",
    "#    print(f\"label: {i}\")\n",
    "#    for k in j:\n",
    "#        print(k)\n",
    "#    print(\"\\n\\n\")\n",
    "#    #print(f\"{i}:\\n{j}\\n\\n\")\n",
    "\n",
    "for i, j in enumerate(lines_by_labels):\n",
    "    print(f\"label: {i}\")\n",
    "    for k in j:\n",
    "        print(k)\n",
    "    print(\"\\n\\n\")"
   ]
  },
  {
   "cell_type": "markdown",
   "metadata": {},
   "source": [
    "For class 2, it seems that 2 groups are to be expected.\n",
    "\n",
    "For class 3, 3 groups"
   ]
  },
  {
   "cell_type": "code",
   "execution_count": null,
   "metadata": {},
   "outputs": [],
   "source": [
    "np.shape(matrices_lines[3])"
   ]
  },
  {
   "cell_type": "code",
   "execution_count": null,
   "metadata": {},
   "outputs": [],
   "source": [
    "print(dir(model))"
   ]
  },
  {
   "cell_type": "markdown",
   "metadata": {},
   "source": [
    "### Tests for finding clusters"
   ]
  },
  {
   "cell_type": "code",
   "execution_count": 16,
   "metadata": {},
   "outputs": [
    {
     "data": {
      "image/png": "[encoded data removed]",
      "text/plain": [
       "<Figure size 432x288 with 1 Axes>"
      ]
     },
     "metadata": {
      "needs_background": "light"
     },
     "output_type": "display_data"
    }
   ],
   "source": [
    "color_threshold = 100\n",
    "linkage_type = \"complete\"\n",
    "#number_of_groups = 3\n",
    "class_number = 4\n",
    "recurrence_class = lines[class_number]\n",
    "group_range = range(1, 9)\n",
    "\n",
    "w_list = []\n",
    "for number_of_groups in group_range:\n",
    "    clustering = AgglomerativeClustering(n_clusters=number_of_groups,\n",
    "                                        distance_threshold=None,\n",
    "                                        linkage=linkage_type,\n",
    "                                        compute_distances=True,\n",
    "                                        compute_full_tree=True)\n",
    "    model = clustering.fit(recurrence_class.reshape(-1, 1))\n",
    "    \n",
    "    #fig, ax = plt.subplots(1, 1, figsize=(15, 7))\n",
    "    #plot_dendrogram(model, ax, color_threshold=color_threshold)\n",
    "    #ax.set_ylim((0, 150))\n",
    "    #ax.axhline(color_threshold, c='black')\n",
    "    #fig.savefig('test.svg')\n",
    "    \n",
    "    matrices_by_labels = [[] for i in range(number_of_groups)]\n",
    "    for i, j in zip(model.labels_, matrices_lines[class_number]):\n",
    "        matrices_by_labels[i].append(j)\n",
    "    \n",
    "    lines_by_labels = [[] for i in range(number_of_groups)]\n",
    "    for i, j in zip(model.labels_, lines[class_number]):\n",
    "        lines_by_labels[i].append(j)\n",
    "    \n",
    "    # calculating big_w_k\n",
    "    w = 0.0\n",
    "    for i in lines_by_labels:\n",
    "        sum, sum_size = big_d_r(i)\n",
    "        w += sum / (2 * sum_size)\n",
    "    \n",
    "    w_list.append(w)\n",
    "fig, ax = plt.subplots(1, 1)\n",
    "\n",
    "ax.plot(group_range, w_list)\n",
    "ax.scatter(group_range, w_list)\n",
    "ax.set_xticks(group_range);"
   ]
  },
  {
   "cell_type": "markdown",
   "metadata": {},
   "source": [
    "The number of groups seems to be:\n",
    "\n",
    "\n",
    "    class   :   0   1   2   3   4   5   6   7   8   9\n",
    "    groups  :   1   1   2   3   4   4   3   2   1   1"
   ]
  },
  {
   "cell_type": "markdown",
   "metadata": {},
   "source": [
    "#### Possible Gaussian?"
   ]
  },
  {
   "cell_type": "code",
   "execution_count": 17,
   "metadata": {},
   "outputs": [
    {
     "data": {
      "text/plain": [
       "Text(0.5, -0.01, 'Class')"
      ]
     },
     "execution_count": 17,
     "metadata": {},
     "output_type": "execute_result"
    },
    {
     "data": {
      "image/png": "[encoded data removed]",
      "text/plain": [
       "<Figure size 864x288 with 2 Axes>"
      ]
     },
     "metadata": {
      "needs_background": "light"
     },
     "output_type": "display_data"
    }
   ],
   "source": [
    "fig, ax = plt.subplots(1, 2, figsize=(12, 4), sharex=True, sharey=True)\n",
    "\n",
    "ax[0].plot(range(9+1), [1, 1, 2, 3, 4, 4, 3, 2, 1, 1])\n",
    "ax[1].scatter(range(9+1), [1, 1, 2, 3, 4, 4, 3, 2, 1, 1])\n",
    "\n",
    "ax[0].set_yticks(range(1, 5))\n",
    "ax[0].set_xticks(range(0, 10))\n",
    "ax[0].set_ylabel(\"Number of groups\")\n",
    "\n",
    "fig.subplots_adjust(wspace=0, hspace=0)\n",
    "fig.text(0.5, -0.01, \"Class\")"
   ]
  },
  {
   "cell_type": "code",
   "execution_count": 18,
   "metadata": {},
   "outputs": [
    {
     "name": "stdout",
     "output_type": "stream",
     "text": [
      "2.7017988958213612 0.0\n"
     ]
    },
    {
     "data": {
      "text/plain": [
       "<matplotlib.collections.PathCollection at 0x7f564d1d58b0>"
      ]
     },
     "execution_count": 18,
     "metadata": {},
     "output_type": "execute_result"
    },
    {
     "data": {
      "image/png": "[encoded data removed]",
      "text/plain": [
       "<Figure size 432x288 with 1 Axes>"
      ]
     },
     "metadata": {
      "needs_background": "light"
     },
     "output_type": "display_data"
    }
   ],
   "source": [
    "#finding maximum value of ocurrences\n",
    "maximum = 0\n",
    "for i in lines:\n",
    "    if maximum < max(i):\n",
    "        maximum = max(i)\n",
    "\n",
    "\n",
    "# getting a reference distribution to be used in gap statistic\n",
    "reference_distribution = np.random.randint(0, maximum, size=100000)\n",
    "\n",
    "\n",
    "# getting other big_b w_list(s) from samples of size len(recurrence_class)\n",
    "big_b = 20\n",
    "random_w_list = []\n",
    "for i in range(big_b):\n",
    "    random_index = np.random.randint(0, 100000, size=len(recurrence_class))\n",
    "    random_class = reference_distribution[random_index]\n",
    "\n",
    "    w_list_ = []\n",
    "    for number_of_groups in group_range:\n",
    "        clustering = AgglomerativeClustering(n_clusters=number_of_groups,\n",
    "                                            distance_threshold=None,\n",
    "                                            linkage=linkage_type,\n",
    "                                            compute_distances=True,\n",
    "                                            compute_full_tree=True)\n",
    "        model = clustering.fit(random_class.reshape(-1, 1))\n",
    "                        \n",
    "        lines_by_labels_ = [[] for i in range(number_of_groups)]\n",
    "        for i, j in zip(model.labels_, lines[class_number]):\n",
    "            lines_by_labels_[i].append(j)\n",
    "        \n",
    "        # calculating big_w_k\n",
    "        w = 0.0\n",
    "        for i in lines_by_labels_:\n",
    "            sum, sum_size = big_d_r(i)\n",
    "            w += sum / (2 * sum_size)\n",
    "        \n",
    "        w_list_.append(w)\n",
    "    \n",
    "    random_w_list.append(w_list_)\n",
    "\n",
    "\n",
    "# calculating average w from random_w_list\n",
    "random_w_list = np.array(random_w_list)\n",
    "average_random_w_list = []\n",
    "for i in range(len(w_list)):\n",
    "    average_random_w_list.append(np.sum(random_w_list[:, i]) / big_b)\n",
    "    \n",
    "\n",
    "\n",
    "gap = np.log(average_random_w_list) - np.log(w_list)\n",
    "\n",
    "for i, j in zip(gap, np.roll(gap, -1)):\n",
    "    if i >= j:\n",
    "        print(i, j)\n",
    "        break\n",
    "\n",
    "fig, ax = plt.subplots(1, 1)\n",
    "\n",
    "ax.plot(group_range, gap)\n",
    "ax.scatter(group_range, gap)"
   ]
  },
  {
   "cell_type": "code",
   "execution_count": 19,
   "metadata": {},
   "outputs": [
    {
     "data": {
      "text/plain": [
       "array([9.34411757, 8.49880986, 7.9312964 , 7.58552686, 7.5405203 ,\n",
       "       6.9099642 , 6.65217872, 6.58030004])"
      ]
     },
     "execution_count": 19,
     "metadata": {},
     "output_type": "execute_result"
    }
   ],
   "source": [
    "np.log(w_list)"
   ]
  }
 ],
 "metadata": {
  "kernelspec": {
   "display_name": "Python 3",
   "language": "python",
   "name": "python3"
  },
  "language_info": {
   "codemirror_mode": {
    "name": "ipython",
    "version": 3
   },
   "file_extension": ".py",
   "mimetype": "text/x-python",
   "name": "python",
   "nbconvert_exporter": "python",
   "pygments_lexer": "ipython3",
   "version": "3.8.10"
  },
  "vscode": {
   "interpreter": {
    "hash": "31f2aee4e71d21fbe5cf8b01ff0e069b9275f58929596ceb00d14d90e3e16cd6"
   }
  }
 },
 "nbformat": 4,
 "nbformat_minor": 2
}

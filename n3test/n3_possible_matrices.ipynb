{
 "cells": [
  {
   "cell_type": "code",
   "execution_count": 38,
   "metadata": {},
   "outputs": [],
   "source": [
    "def transform_bin(x):\n",
    "    reg = 0\n",
    "    exponent = 0\n",
    "    while x > 0:\n",
    "        if x % 2:\n",
    "            reg += 10 ** exponent\n",
    "        exponent += 1\n",
    "        x = x // 2\n",
    "    return reg\n",
    "\n"
   ]
  },
  {
   "cell_type": "code",
   "execution_count": 39,
   "metadata": {},
   "outputs": [],
   "source": [
    "possible_combinations = 1024 # possible numbers with \n",
    "\n",
    "combinations = [transform_bin(i) for i in range(possible_combinations)]\n",
    "string_combinations = [f\"{i:09d}\" for i in combinations]\n",
    "\n"
   ]
  },
  {
   "cell_type": "code",
   "execution_count": null,
   "metadata": {},
   "outputs": [],
   "source": [
    "# TODO mount matrices\n",
    "\n",
    "possible_matrices = []"
   ]
  }
 ],
 "metadata": {
  "kernelspec": {
   "display_name": "Julia 1.7.3",
   "language": "julia",
   "name": "julia-1.7"
  },
  "language_info": {
   "file_extension": ".jl",
   "mimetype": "application/julia",
   "name": "julia",
   "version": "1.7.3"
  },
  "orig_nbformat": 4,
  "vscode": {
   "interpreter": {
    "hash": "916dbcbb3f70747c44a77c7bcd40155683ae19c65e1c03b4aa3499c5328201f1"
   }
  }
 },
 "nbformat": 4,
 "nbformat_minor": 2
}

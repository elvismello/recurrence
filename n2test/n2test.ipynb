{
 "cells": [
  {
   "cell_type": "code",
   "execution_count": 1,
   "metadata": {},
   "outputs": [],
   "source": [
    "import DynamicalSystems as DS\n",
    "import DynamicalSystems.RecurrenceAnalysis as RA\n",
    "import Random\n",
    "import PyPlot as plt\n",
    "import Statistics"
   ]
  },
  {
   "cell_type": "markdown",
   "metadata": {},
   "source": [
    "# TODO\n",
    "\n",
    "1.  Generate noise and choose the most restrictive gamma to determine if a \n",
    "system is deterministic;\n",
    "2.  Make functions to clear the code a bit;\n",
    "    *   Since I repeat always the same steps, only changing a few variables, it \n",
    "    could be easy\n",
    "3.  Define epsilon_list based in the system;\n",
    "    *   Some systems can produce numeric values that are quite big;\n",
    "    *   Maybe I could normalize the system and not worry with this?\n"
   ]
  },
  {
   "cell_type": "markdown",
   "metadata": {},
   "source": [
    "## Calculating gamma for a set"
   ]
  },
  {
   "cell_type": "markdown",
   "metadata": {},
   "source": [
    "### Constants and definitions"
   ]
  },
  {
   "cell_type": "code",
   "execution_count": 2,
   "metadata": {},
   "outputs": [
    {
     "data": {
      "text/plain": [
       "1000-element Vector{Float64}:\n",
       " 0.06554621111064407\n",
       " 0.7566540444600304\n",
       " 0.8916378663975794\n",
       " 0.5646606613751782\n",
       " 0.1720385379039635\n",
       " 0.3763969883000293\n",
       " 0.575988266170038\n",
       " 0.05709896164313577\n",
       " 0.06642803826081767\n",
       " 0.9337138804271949\n",
       " ⋮\n",
       " 0.9038054867919565\n",
       " 0.686417187024587\n",
       " 0.35050873974399943\n",
       " 0.2149136443373103\n",
       " 0.9650402122340889\n",
       " 0.7665592277854054\n",
       " 0.442529878278501\n",
       " 0.5673607302854718\n",
       " 0.6012148598021775"
      ]
     },
     "metadata": {},
     "output_type": "display_data"
    }
   ],
   "source": [
    "sample_size = 50000 # 5% of 1e6\n",
    "series_size = 1000\n",
    "\n",
    "epsilon_list = collect(0:0.01:1)\n",
    "entropy_list = []\n",
    "\n",
    "deterministic = false\n",
    "time = [0:1:series_size-1;] # \"time\", using a sequence from 0 to 999\n",
    "\n",
    "if deterministic\n",
    "    #system = DS.Systems.betatransformationmap(0.25, β=2.0)\n",
    "    #global system = DS.Systems.logistic(0.4, r=4.0) # Selecting system\n",
    "    #global trajectory = DS.trajectory(system, series_size-1) # evolving trajectory\n",
    "\n",
    "    global system = DS.Systems.henon([0.0, 0.0]; a=1.4, b=0.3)\n",
    "    global trajectory = DS.trajectory(system, series_size-1; Ttr=1000)[:, 1]\n",
    "\n",
    "else\n",
    "    trajectory = zeros(series_size)\n",
    "    Random.rand!(trajectory)\n",
    "end"
   ]
  },
  {
   "cell_type": "markdown",
   "metadata": {},
   "source": [
    "### Iterating over distinct epsilons in order to maximize entropy"
   ]
  },
  {
   "cell_type": "code",
   "execution_count": 3,
   "metadata": {},
   "outputs": [
    {
     "name": "stdout",
     "output_type": "stream",
     "text": [
      "epsilon is 0.0    \r"
     ]
    },
    {
     "name": "stdout",
     "output_type": "stream",
     "text": [
      "epsilon is 0.01    \r"
     ]
    },
    {
     "name": "stdout",
     "output_type": "stream",
     "text": [
      "epsilon is 0.02    \r"
     ]
    },
    {
     "name": "stdout",
     "output_type": "stream",
     "text": [
      "epsilon is 0.03    \r"
     ]
    },
    {
     "name": "stdout",
     "output_type": "stream",
     "text": [
      "epsilon is 0.04    \r"
     ]
    },
    {
     "name": "stdout",
     "output_type": "stream",
     "text": [
      "epsilon is 0.05    \r"
     ]
    },
    {
     "name": "stdout",
     "output_type": "stream",
     "text": [
      "epsilon is 0.06    \r"
     ]
    },
    {
     "name": "stdout",
     "output_type": "stream",
     "text": [
      "epsilon is 0.07    \r"
     ]
    },
    {
     "name": "stdout",
     "output_type": "stream",
     "text": [
      "epsilon is 0.08    \r"
     ]
    },
    {
     "name": "stdout",
     "output_type": "stream",
     "text": [
      "epsilon is 0.09    \r"
     ]
    },
    {
     "name": "stdout",
     "output_type": "stream",
     "text": [
      "epsilon is 0.1    \r"
     ]
    },
    {
     "name": "stdout",
     "output_type": "stream",
     "text": [
      "epsilon is 0.11    \r"
     ]
    },
    {
     "name": "stdout",
     "output_type": "stream",
     "text": [
      "epsilon is 0.12    \r"
     ]
    },
    {
     "name": "stdout",
     "output_type": "stream",
     "text": [
      "epsilon is 0.13    \r"
     ]
    },
    {
     "name": "stdout",
     "output_type": "stream",
     "text": [
      "epsilon is 0.14    \r"
     ]
    },
    {
     "name": "stdout",
     "output_type": "stream",
     "text": [
      "epsilon is 0.15    \r"
     ]
    },
    {
     "name": "stdout",
     "output_type": "stream",
     "text": [
      "epsilon is 0.16    \r"
     ]
    },
    {
     "name": "stdout",
     "output_type": "stream",
     "text": [
      "epsilon is 0.17    \r"
     ]
    },
    {
     "name": "stdout",
     "output_type": "stream",
     "text": [
      "epsilon is 0.18    \r"
     ]
    },
    {
     "name": "stdout",
     "output_type": "stream",
     "text": [
      "epsilon is 0.19    \r"
     ]
    },
    {
     "name": "stdout",
     "output_type": "stream",
     "text": [
      "epsilon is 0.2    \r"
     ]
    },
    {
     "name": "stdout",
     "output_type": "stream",
     "text": [
      "epsilon is 0.21    \r"
     ]
    },
    {
     "name": "stdout",
     "output_type": "stream",
     "text": [
      "epsilon is 0.22    \r"
     ]
    },
    {
     "name": "stdout",
     "output_type": "stream",
     "text": [
      "epsilon is 0.23    \r"
     ]
    },
    {
     "name": "stdout",
     "output_type": "stream",
     "text": [
      "epsilon is 0.24    \r"
     ]
    },
    {
     "name": "stdout",
     "output_type": "stream",
     "text": [
      "epsilon is 0.25    \r"
     ]
    },
    {
     "name": "stdout",
     "output_type": "stream",
     "text": [
      "epsilon is 0.26    \r"
     ]
    },
    {
     "name": "stdout",
     "output_type": "stream",
     "text": [
      "epsilon is 0.27    \r"
     ]
    },
    {
     "name": "stdout",
     "output_type": "stream",
     "text": [
      "epsilon is 0.28    \r"
     ]
    },
    {
     "name": "stdout",
     "output_type": "stream",
     "text": [
      "epsilon is 0.29    \r"
     ]
    },
    {
     "name": "stdout",
     "output_type": "stream",
     "text": [
      "epsilon is 0.3    \r"
     ]
    },
    {
     "name": "stdout",
     "output_type": "stream",
     "text": [
      "epsilon is 0.31    \r"
     ]
    },
    {
     "name": "stdout",
     "output_type": "stream",
     "text": [
      "epsilon is 0.32    \r"
     ]
    },
    {
     "name": "stdout",
     "output_type": "stream",
     "text": [
      "epsilon is 0.33    \r"
     ]
    },
    {
     "name": "stdout",
     "output_type": "stream",
     "text": [
      "epsilon is 0.34    \r"
     ]
    },
    {
     "name": "stdout",
     "output_type": "stream",
     "text": [
      "epsilon is 0.35    \r"
     ]
    },
    {
     "name": "stdout",
     "output_type": "stream",
     "text": [
      "epsilon is 0.36    \r"
     ]
    },
    {
     "name": "stdout",
     "output_type": "stream",
     "text": [
      "epsilon is 0.37    \r"
     ]
    },
    {
     "name": "stdout",
     "output_type": "stream",
     "text": [
      "epsilon is 0.38    \r"
     ]
    },
    {
     "name": "stdout",
     "output_type": "stream",
     "text": [
      "epsilon is 0.39    \r"
     ]
    },
    {
     "name": "stdout",
     "output_type": "stream",
     "text": [
      "epsilon is 0.4    \r"
     ]
    },
    {
     "name": "stdout",
     "output_type": "stream",
     "text": [
      "epsilon is 0.41    \r"
     ]
    },
    {
     "name": "stdout",
     "output_type": "stream",
     "text": [
      "epsilon is 0.42    \r"
     ]
    },
    {
     "name": "stdout",
     "output_type": "stream",
     "text": [
      "epsilon is 0.43    \r"
     ]
    },
    {
     "name": "stdout",
     "output_type": "stream",
     "text": [
      "epsilon is 0.44    \r"
     ]
    },
    {
     "name": "stdout",
     "output_type": "stream",
     "text": [
      "epsilon is 0.45    \r"
     ]
    },
    {
     "name": "stdout",
     "output_type": "stream",
     "text": [
      "epsilon is 0.46    \r"
     ]
    },
    {
     "name": "stdout",
     "output_type": "stream",
     "text": [
      "epsilon is 0.47    \r"
     ]
    },
    {
     "name": "stdout",
     "output_type": "stream",
     "text": [
      "epsilon is 0.48    \r"
     ]
    },
    {
     "name": "stdout",
     "output_type": "stream",
     "text": [
      "epsilon is 0.49    \r"
     ]
    },
    {
     "name": "stdout",
     "output_type": "stream",
     "text": [
      "epsilon is 0.5    \r"
     ]
    },
    {
     "name": "stdout",
     "output_type": "stream",
     "text": [
      "epsilon is 0.51    \r"
     ]
    },
    {
     "name": "stdout",
     "output_type": "stream",
     "text": [
      "epsilon is 0.52    \r"
     ]
    },
    {
     "name": "stdout",
     "output_type": "stream",
     "text": [
      "epsilon is 0.53    \r"
     ]
    },
    {
     "name": "stdout",
     "output_type": "stream",
     "text": [
      "epsilon is 0.54    \r"
     ]
    },
    {
     "name": "stdout",
     "output_type": "stream",
     "text": [
      "epsilon is 0.55    \r"
     ]
    },
    {
     "name": "stdout",
     "output_type": "stream",
     "text": [
      "epsilon is 0.56    \r"
     ]
    },
    {
     "name": "stdout",
     "output_type": "stream",
     "text": [
      "epsilon is 0.57    \r"
     ]
    },
    {
     "name": "stdout",
     "output_type": "stream",
     "text": [
      "epsilon is 0.58    \r"
     ]
    },
    {
     "name": "stdout",
     "output_type": "stream",
     "text": [
      "epsilon is 0.59    \r"
     ]
    },
    {
     "name": "stdout",
     "output_type": "stream",
     "text": [
      "epsilon is 0.6    \r"
     ]
    },
    {
     "name": "stdout",
     "output_type": "stream",
     "text": [
      "epsilon is 0.61    \r"
     ]
    },
    {
     "name": "stdout",
     "output_type": "stream",
     "text": [
      "epsilon is 0.62    \r"
     ]
    },
    {
     "name": "stdout",
     "output_type": "stream",
     "text": [
      "epsilon is 0.63    \r"
     ]
    },
    {
     "name": "stdout",
     "output_type": "stream",
     "text": [
      "epsilon is 0.64    \r"
     ]
    },
    {
     "name": "stdout",
     "output_type": "stream",
     "text": [
      "epsilon is 0.65    \r"
     ]
    },
    {
     "name": "stdout",
     "output_type": "stream",
     "text": [
      "epsilon is 0.66    \r"
     ]
    },
    {
     "name": "stdout",
     "output_type": "stream",
     "text": [
      "epsilon is 0.67    \r"
     ]
    },
    {
     "name": "stdout",
     "output_type": "stream",
     "text": [
      "epsilon is 0.68    \r"
     ]
    },
    {
     "name": "stdout",
     "output_type": "stream",
     "text": [
      "epsilon is 0.69    \r"
     ]
    },
    {
     "name": "stdout",
     "output_type": "stream",
     "text": [
      "epsilon is 0.7    \r"
     ]
    },
    {
     "name": "stdout",
     "output_type": "stream",
     "text": [
      "epsilon is 0.71    \r"
     ]
    },
    {
     "name": "stdout",
     "output_type": "stream",
     "text": [
      "epsilon is 0.72    \r"
     ]
    },
    {
     "name": "stdout",
     "output_type": "stream",
     "text": [
      "epsilon is 0.73    \r"
     ]
    },
    {
     "name": "stdout",
     "output_type": "stream",
     "text": [
      "epsilon is 0.74    \r"
     ]
    },
    {
     "name": "stdout",
     "output_type": "stream",
     "text": [
      "epsilon is 0.75    \r"
     ]
    },
    {
     "name": "stdout",
     "output_type": "stream",
     "text": [
      "epsilon is 0.76    \r"
     ]
    },
    {
     "name": "stdout",
     "output_type": "stream",
     "text": [
      "epsilon is 0.77    \r"
     ]
    },
    {
     "name": "stdout",
     "output_type": "stream",
     "text": [
      "epsilon is 0.78    \r"
     ]
    },
    {
     "name": "stdout",
     "output_type": "stream",
     "text": [
      "epsilon is 0.79    \r"
     ]
    },
    {
     "name": "stdout",
     "output_type": "stream",
     "text": [
      "epsilon is 0.8    \r"
     ]
    },
    {
     "name": "stdout",
     "output_type": "stream",
     "text": [
      "epsilon is 0.81    \r"
     ]
    },
    {
     "name": "stdout",
     "output_type": "stream",
     "text": [
      "epsilon is 0.82    \r"
     ]
    },
    {
     "name": "stdout",
     "output_type": "stream",
     "text": [
      "epsilon is 0.83    \r"
     ]
    },
    {
     "name": "stdout",
     "output_type": "stream",
     "text": [
      "epsilon is 0.84    \r"
     ]
    },
    {
     "name": "stdout",
     "output_type": "stream",
     "text": [
      "epsilon is 0.85    \r"
     ]
    },
    {
     "name": "stdout",
     "output_type": "stream",
     "text": [
      "epsilon is 0.86    \r"
     ]
    },
    {
     "name": "stdout",
     "output_type": "stream",
     "text": [
      "epsilon is 0.87    \r"
     ]
    },
    {
     "name": "stdout",
     "output_type": "stream",
     "text": [
      "epsilon is 0.88    \r"
     ]
    },
    {
     "name": "stdout",
     "output_type": "stream",
     "text": [
      "epsilon is 0.89    \r"
     ]
    },
    {
     "name": "stdout",
     "output_type": "stream",
     "text": [
      "epsilon is 0.9    \r"
     ]
    },
    {
     "name": "stdout",
     "output_type": "stream",
     "text": [
      "epsilon is 0.91    \r"
     ]
    },
    {
     "name": "stdout",
     "output_type": "stream",
     "text": [
      "epsilon is 0.92    \r"
     ]
    },
    {
     "name": "stdout",
     "output_type": "stream",
     "text": [
      "epsilon is 0.93    \r"
     ]
    },
    {
     "name": "stdout",
     "output_type": "stream",
     "text": [
      "epsilon is 0.94    \r"
     ]
    },
    {
     "name": "stdout",
     "output_type": "stream",
     "text": [
      "epsilon is 0.95    \r"
     ]
    },
    {
     "name": "stdout",
     "output_type": "stream",
     "text": [
      "epsilon is 0.96    \r"
     ]
    },
    {
     "name": "stdout",
     "output_type": "stream",
     "text": [
      "epsilon is 0.97    \r"
     ]
    },
    {
     "name": "stdout",
     "output_type": "stream",
     "text": [
      "epsilon is 0.98    \r"
     ]
    },
    {
     "name": "stdout",
     "output_type": "stream",
     "text": [
      "epsilon is 0.99    \r"
     ]
    },
    {
     "name": "stdout",
     "output_type": "stream",
     "text": [
      "epsilon is 1.0    \r"
     ]
    },
    {
     "name": "stdout",
     "output_type": "stream",
     "text": [
      "\n",
      "max entropy is at epsilon = 0.29"
     ]
    }
   ],
   "source": [
    "for epsilon in epsilon_list\n",
    "    print(\"epsilon is $(epsilon)    \\r\")\n",
    "    flush(stdout)\n",
    "    \n",
    "    \n",
    "    # Getting recurrence matrix and transforming it to a simple numeric matrix\n",
    "    # populated with 1s and 0s\n",
    "    matrix = RA.RecurrenceMatrix(trajectory, epsilon, parallel=true)\n",
    "    matrix_fix = ones(size(matrix))\n",
    "    for i in 1:size(matrix)[1], j in 1:size(matrix)[2]\n",
    "        matrix_fix[i, j] = matrix[i, j] * 1\n",
    "    end\n",
    "    matrix = matrix_fix\n",
    "\n",
    "    random_index = zeros(sample_size)\n",
    "    Random.rand!(random_index)\n",
    "    \n",
    "    random_index = random_index * series_size^2\n",
    "    round.(random_index)\n",
    "    \n",
    "    x_index = zeros(sample_size)\n",
    "    y_index = zeros(sample_size)\n",
    "    \n",
    "    for (i, index) in enumerate(random_index)\n",
    "        x_index[i] = index % series_size\n",
    "        y_index[i] = round(index / series_size)\n",
    "    end\n",
    "    \n",
    "    x_index = trunc.(Int, x_index)\n",
    "    y_index = trunc.(Int, y_index)\n",
    "    \n",
    "    # Verifying border problems\n",
    "    for (i, j) in enumerate(x_index)\n",
    "        if j >= series_size\n",
    "            x_index[i] = series_size - 1\n",
    "        elseif j == 0\n",
    "            x_index[i] = 1\n",
    "        end\n",
    "    end\n",
    "    \n",
    "    for (i, j) in enumerate(y_index)\n",
    "        if j >= series_size\n",
    "            y_index[i] = series_size - 1\n",
    "        elseif j == 0\n",
    "            y_index[i] = 1\n",
    "        end\n",
    "    end\n",
    "    \n",
    "    \n",
    "    \n",
    "    # Getting matrices from recurrence matrix\n",
    "    matrices = []\n",
    "    for (x, y) in zip(x_index, y_index)\n",
    "        push!(matrices, matrix[x:x+1, y:y+1])\n",
    "    end\n",
    "    \n",
    "    # Counting each type\n",
    "    possible_matrices = [[0 0; 0 0], [1 0; 0 0], [0 1; 0 0], [0 0; 1 0],\n",
    "                         [0 0; 0 1], [1 1; 0 0], [1 0; 1 0], [0 0; 1 1],\n",
    "                         [0 1; 0 1], [1 0; 0 1], [0 1; 1 0], [1 1; 1 0],\n",
    "                         [0 1; 1 1], [1 0; 1 1], [1 1; 0 1], [1 1; 1 1]]\n",
    "    \n",
    "    current_found = zeros(16)\n",
    "    for (i, current_matrix) in enumerate(possible_matrices)\n",
    "        for j in matrices\n",
    "            if current_matrix == j\n",
    "                current_found[i] += 1\n",
    "            end\n",
    "        end\n",
    "    end\n",
    "    \n",
    "    # TODO Divide current_found by sample_size in order to normalize them into\n",
    "    # probabilities\n",
    "\n",
    "    current_found = current_found\n",
    "\n",
    "    current_entropy = 0.0\n",
    "    for i in current_found\n",
    "        # expression defined in eq. 4\n",
    "        current_entropy -= i / sample_size * log(i / sample_size)\n",
    "    end\n",
    "\n",
    "    push!(entropy_list, current_entropy)\n",
    "end\n",
    "\n",
    "# finding max entropy\n",
    "max_entropy_epsilon = [0, 0]\n",
    "for (i, j) in enumerate(entropy_list)\n",
    "    if j != NaN\n",
    "        if max_entropy_epsilon[2] < j\n",
    "            global max_entropy_epsilon = [i, j]\n",
    "        end\n",
    "    end\n",
    "end\n",
    "\n",
    "max_entropy_epsilon = epsilon_list[convert(Int, max_entropy_epsilon[1])]\n",
    "\n",
    "print(\"\\nmax entropy is at epsilon = \", max_entropy_epsilon)"
   ]
  },
  {
   "cell_type": "code",
   "execution_count": null,
   "metadata": {},
   "outputs": [
    {
     "name": "stderr",
     "output_type": "stream",
     "text": [
      "/usr/local/lib/python3.8/dist-packages/matplotlib/axes/_base.py:2475: UserWarning: Warning: converting a masked element to nan.\n",
      "  xys = np.asarray(xys)\n"
     ]
    },
    {
     "data": {
      "image/png": "[encoded data removed]",
      "text/plain": [
       "PyPlot.Figure(PyObject <Figure size 640x480 with 1 Axes>)"
      ]
     },
     "metadata": {},
     "output_type": "display_data"
    },
    {
     "data": {
      "text/plain": [
       "PyObject <matplotlib.collections.LineCollection object at 0x7f6aed69e6d0>"
      ]
     },
     "execution_count": 7,
     "metadata": {},
     "output_type": "execute_result"
    }
   ],
   "source": [
    "plt.scatter(epsilon_list, entropy_list)\n",
    "plt.vlines(max_entropy_epsilon, minimum(entropy_list), maximum(entropy_list))"
   ]
  },
  {
   "cell_type": "markdown",
   "metadata": {},
   "source": [
    "### With the best known epsilon, calculate the resulting recurrence matrix"
   ]
  },
  {
   "cell_type": "code",
   "execution_count": null,
   "metadata": {},
   "outputs": [
    {
     "name": "stdout",
     "output_type": "stream",
     "text": [
      "\n",
      "\n",
      "\n",
      "\n",
      "a is 4843.0\n",
      "b is 2120.0\n",
      "c is 2117.0\n",
      "d is 2133.0\n",
      "e is 2112.0\n",
      "f is 4428.0\n",
      "g is 4457.0\n",
      "h is 4207.0\n",
      "i is 4328.0\n",
      "j is 3987.0\n",
      "k is 4031.0\n",
      "l is 1625.0\n",
      "m is 1666.0\n",
      "n is 1621.0\n",
      "o is 1649.0\n",
      "p is 4676.0\n",
      "\n",
      "\n",
      "\n",
      "\n",
      "Total gamma is: 0.02238\n",
      "\n"
     ]
    },
    {
     "data": {
      "image/png": "[encoded data removed]",
      "text/plain": [
       "PyPlot.Figure(PyObject <Figure size 640x480 with 1 Axes>)"
      ]
     },
     "metadata": {},
     "output_type": "display_data"
    }
   ],
   "source": [
    "epsilon = max_entropy_epsilon\n",
    "\n",
    "# Getting recurrence matrix and transforming it to a simple numeric matrix\n",
    "# populated with 1s and 0s\n",
    "matrix = RA.RecurrenceMatrix(trajectory, epsilon, parallel=true)\n",
    "matrix_fix = ones(size(matrix))\n",
    "for i in 1:size(matrix)[1], j in 1:size(matrix)[2]\n",
    "    matrix_fix[i, j] = matrix[i, j] * 1\n",
    "end\n",
    "matrix = trunc.(Int, matrix_fix)\n",
    "\n",
    "plt.scatter(time, trajectory)\n",
    "plt.savefig(\"juliaData.png\", dpi=600)\n",
    "plt.close()\n",
    "\n",
    "plt.imshow(matrix, cmap=\"Greys\", interpolation=\"none\")\n",
    "plt.savefig(\"juliaTest.png\", dpi=600)\n",
    "\n",
    "\n",
    "random_index = zeros(sample_size)\n",
    "Random.rand!(random_index)\n",
    "\n",
    "random_index = random_index * series_size^2\n",
    "round.(random_index)\n",
    "\n",
    "x_index = zeros(sample_size)\n",
    "y_index = zeros(sample_size)\n",
    "\n",
    "for (i, index) in enumerate(random_index)\n",
    "    x_index[i] = index % series_size\n",
    "    y_index[i] = round(index / series_size)\n",
    "end\n",
    "\n",
    "x_index = trunc.(Int, x_index)\n",
    "y_index = trunc.(Int, y_index)\n",
    "\n",
    "# Verifying border problems\n",
    "for (i, j) in enumerate(x_index)\n",
    "    if j >= series_size\n",
    "        x_index[i] = series_size - 1\n",
    "    elseif j == 0\n",
    "        x_index[i] = 1\n",
    "    end\n",
    "end\n",
    "\n",
    "for (i, j) in enumerate(y_index)\n",
    "    if j >= series_size\n",
    "        y_index[i] = series_size - 1\n",
    "    elseif j == 0\n",
    "        y_index[i] = 1\n",
    "    end\n",
    "end\n",
    "\n",
    "\n",
    "\n",
    "# Getting matrices from recurrence matrix\n",
    "matrices = []\n",
    "for (x, y) in zip(x_index, y_index)\n",
    "    push!(matrices, matrix[x:x+1, y:y+1])\n",
    "end\n",
    "\n",
    "# Counting each type\n",
    "possible_matrices = [[0 0; 0 0], [1 0; 0 0], [0 1; 0 0], [0 0; 1 0],\n",
    "                     [0 0; 0 1], [1 1; 0 0], [1 0; 1 0], [0 0; 1 1],\n",
    "                     [0 1; 0 1], [1 0; 0 1], [0 1; 1 0], [1 1; 1 0],\n",
    "                     [0 1; 1 1], [1 0; 1 1], [1 1; 0 1], [1 1; 1 1]]\n",
    "\n",
    "current_found = zeros(16)\n",
    "for (i, current_matrix) in enumerate(possible_matrices)\n",
    "    for j in matrices\n",
    "        if current_matrix == j\n",
    "            current_found[i] += 1\n",
    "        end\n",
    "    end\n",
    "end\n",
    "\n",
    "print(\"\\n\\n\\n\")\n",
    "histogram_values = []\n",
    "for (i, j) in enumerate(\"abcdefghijklmnop\")\n",
    "    print(\"\\n\", j, \" is \", current_found[i])\n",
    "    push!(histogram_values, current_found[i])\n",
    "end\n",
    "print(\"\\n\\n\\n\")\n",
    "\n",
    "#print(\"\\n\\n\\n\")\n",
    "#for (i, j) in enumerate(\"abcdefghijklmnop\")\n",
    "#    print(\"\\n\", j, \" is \")\n",
    "#    display(possible_matrices[i])\n",
    "#end\n",
    "#print(\"\\n\\n\\n\")\n",
    "\n",
    "# Calculating gamma by the paper definition\n",
    "gamma1 = abs(current_found[2] - current_found[3]) +\n",
    "         abs(current_found[2] - current_found[4]) +\n",
    "         abs(current_found[2] - current_found[5]) +\n",
    "         abs(current_found[3] - current_found[4]) +\n",
    "         abs(current_found[3] - current_found[5]) +\n",
    "         abs(current_found[4] - current_found[5])\n",
    "\n",
    "\n",
    "gamma2 = abs(current_found[6] - current_found[7]) +\n",
    "         abs(current_found[6] - current_found[8]) +\n",
    "         abs(current_found[6] - current_found[9]) +\n",
    "         abs(current_found[7] - current_found[8]) +\n",
    "         abs(current_found[7] - current_found[9]) +\n",
    "         abs(current_found[8] - current_found[9])\n",
    "\n",
    "gamma3 = abs(current_found[10] - current_found[11])\n",
    "\n",
    "gamma4 = abs(current_found[12] - current_found[13]) +\n",
    "         abs(current_found[12] - current_found[14]) +\n",
    "         abs(current_found[12] - current_found[15]) +\n",
    "         abs(current_found[13] - current_found[14]) +\n",
    "         abs(current_found[13] - current_found[15]) +\n",
    "         abs(current_found[14] - current_found[15])\n",
    "\n",
    "\n",
    "total_gamma_system = (gamma1 + gamma2 + gamma3 + gamma4) / sample_size\n",
    "\n",
    "# multiplying total_gamma by 100, since it should be a percentage\n",
    "# print(\"\\n\\n\", \"Total gamma is: \", total_gamma * 100, \"%\\n\\n\")\n",
    "print(\"\\n\\n\", \"Total gamma is: \", total_gamma_system, \"\\n\\n\")\n"
   ]
  },
  {
   "cell_type": "code",
   "execution_count": null,
   "metadata": {},
   "outputs": [
    {
     "data": {
      "image/png": "[encoded data removed]",
      "text/plain": [
       "PyPlot.Figure(PyObject <Figure size 640x480 with 1 Axes>)"
      ]
     },
     "metadata": {},
     "output_type": "display_data"
    }
   ],
   "source": [
    "\n",
    "plt.close()\n",
    "plt.hist(histogram_values[2:15], 20);"
   ]
  },
  {
   "cell_type": "markdown",
   "metadata": {},
   "source": [
    "## Calculating 100 gammas for the shuffled dataset"
   ]
  },
  {
   "cell_type": "code",
   "execution_count": null,
   "metadata": {},
   "outputs": [
    {
     "data": {
      "text/plain": [
       "Any[]"
      ]
     },
     "execution_count": 18,
     "metadata": {},
     "output_type": "execute_result"
    }
   ],
   "source": [
    "shuffled_trajectory = Random.shuffle(trajectory)\n",
    "\n",
    "shuffled_epsilon_list = collect(0:0.01:1)\n",
    "shuffled_entropy_list = []"
   ]
  },
  {
   "cell_type": "markdown",
   "metadata": {},
   "source": [
    "### Finding best epsilon for the shuffled dataset"
   ]
  },
  {
   "cell_type": "code",
   "execution_count": null,
   "metadata": {},
   "outputs": [
    {
     "name": "stdout",
     "output_type": "stream",
     "text": [
      "epsilon is 1.0     \r"
     ]
    }
   ],
   "source": [
    "\n",
    "for shuffled_epsilon in shuffled_epsilon_list\n",
    "    print(\"epsilon is $(shuffled_epsilon)    \\r\")\n",
    "    flush(stdout)\n",
    "    \n",
    "    \n",
    "    # Getting recurrence matrix and transforming it to a simple numeric matrix\n",
    "    # populated with 1s and 0s\n",
    "    matrix = RA.RecurrenceMatrix(shuffled_trajectory, shuffled_epsilon, parallel=true)\n",
    "    matrix_fix = ones(size(matrix))\n",
    "    for i in 1:size(matrix)[1], j in 1:size(matrix)[2]\n",
    "        matrix_fix[i, j] = matrix[i, j] * 1\n",
    "    end\n",
    "    matrix = matrix_fix\n",
    "\n",
    "    random_index = zeros(sample_size)\n",
    "    Random.rand!(random_index)\n",
    "    \n",
    "    random_index = random_index * series_size^2\n",
    "    round.(random_index)\n",
    "    \n",
    "    x_index = zeros(sample_size)\n",
    "    y_index = zeros(sample_size)\n",
    "    \n",
    "    for (i, index) in enumerate(random_index)\n",
    "        x_index[i] = index % series_size\n",
    "        y_index[i] = round(index / series_size)\n",
    "    end\n",
    "    \n",
    "    x_index = trunc.(Int, x_index)\n",
    "    y_index = trunc.(Int, y_index)\n",
    "    \n",
    "    # Verifying border problems\n",
    "    for (i, j) in enumerate(x_index)\n",
    "        if j >= series_size\n",
    "            x_index[i] = series_size - 1\n",
    "        elseif j == 0\n",
    "            x_index[i] = 1\n",
    "        end\n",
    "    end\n",
    "    \n",
    "    for (i, j) in enumerate(y_index)\n",
    "        if j >= series_size\n",
    "            y_index[i] = series_size - 1\n",
    "        elseif j == 0\n",
    "            y_index[i] = 1\n",
    "        end\n",
    "    end\n",
    "    \n",
    "    \n",
    "    \n",
    "    # Getting matrices from recurrence matrix\n",
    "    matrices = []\n",
    "    for (x, y) in zip(x_index, y_index)\n",
    "        push!(matrices, matrix[x:x+1, y:y+1])\n",
    "    end\n",
    "    \n",
    "    # Counting each type\n",
    "    possible_matrices = [[0 0; 0 0], [1 0; 0 0], [0 1; 0 0], [0 0; 1 0],\n",
    "                         [0 0; 0 1], [1 1; 0 0], [1 0; 1 0], [0 0; 1 1],\n",
    "                         [0 1; 0 1], [1 0; 0 1], [0 1; 1 0], [1 1; 1 0],\n",
    "                         [0 1; 1 1], [1 0; 1 1], [1 1; 0 1], [1 1; 1 1]]\n",
    "    \n",
    "    current_found = zeros(16)\n",
    "    for (i, current_matrix) in enumerate(possible_matrices)\n",
    "        for j in matrices\n",
    "            if current_matrix == j\n",
    "                current_found[i] += 1\n",
    "            end\n",
    "        end\n",
    "    end\n",
    "    \n",
    "    # TODO Divide current_found by sample_size in order to normalize them into\n",
    "    # probabilities\n",
    "\n",
    "    current_found = current_found / sample_size\n",
    "\n",
    "    current_entropy = 0.0\n",
    "    for i in current_found\n",
    "        # expression defined in eq. 4\n",
    "        current_entropy -= i / sample_size * log(i / sample_size)\n",
    "    end\n",
    "\n",
    "    push!(shuffled_entropy_list, current_entropy)\n",
    "end\n"
   ]
  },
  {
   "cell_type": "code",
   "execution_count": null,
   "metadata": {},
   "outputs": [
    {
     "name": "stdout",
     "output_type": "stream",
     "text": [
      "\n",
      "max entropy is at epsilon = 0.65"
     ]
    }
   ],
   "source": [
    "\n",
    "# finding max entropy\n",
    "max_entropy_epsilon = [0, 0]\n",
    "for (i, j) in enumerate(shuffled_entropy_list)\n",
    "    if j != NaN\n",
    "        if max_entropy_epsilon[2] < j\n",
    "            max_entropy_epsilon = [i, j]\n",
    "        end\n",
    "    end\n",
    "end\n",
    "\n",
    "shuffled_max_entropy_epsilon = shuffled_epsilon_list[convert(Int, max_entropy_epsilon[1])]\n",
    "\n",
    "print(\"\\nmax entropy is at epsilon = \", shuffled_max_entropy_epsilon)"
   ]
  },
  {
   "cell_type": "markdown",
   "metadata": {},
   "source": [
    "### With the best known epsilon, calculate the resulting recurrence matrix for 100 gammas"
   ]
  },
  {
   "cell_type": "code",
   "execution_count": null,
   "metadata": {},
   "outputs": [
    {
     "name": "stdout",
     "output_type": "stream",
     "text": [
      "Mean gamma is 0.022747600000000007\n",
      "Mean gamma + 3 sigma is 0.038085744441525224\n"
     ]
    }
   ],
   "source": [
    "gammas = []\n",
    "epsilon = shuffled_max_entropy_epsilon\n",
    "\n",
    "for current_gamma in 1:100\n",
    "    print(\"gamma being calculated is #$(current_gamma)\\r\")\n",
    "    flush(stdout)\n",
    "\n",
    "    # Getting recurrence matrix and transforming it to a simple numeric matrix\n",
    "    # populated with 1s and 0s\n",
    "    matrix = RA.RecurrenceMatrix(shuffled_trajectory, epsilon, parallel=true)\n",
    "    matrix_fix = ones(size(matrix))\n",
    "    for i in 1:size(matrix)[1], j in 1:size(matrix)[2]\n",
    "        matrix_fix[i, j] = matrix[i, j] * 1\n",
    "    end\n",
    "    matrix = trunc.(Int, matrix_fix)\n",
    "\n",
    "    random_index = zeros(sample_size)\n",
    "    Random.rand!(random_index)\n",
    "\n",
    "    random_index = random_index * series_size^2\n",
    "    round.(random_index)\n",
    "\n",
    "    x_index = zeros(sample_size)\n",
    "    y_index = zeros(sample_size)\n",
    "\n",
    "    for (i, index) in enumerate(random_index)\n",
    "        x_index[i] = index % series_size\n",
    "        y_index[i] = round(index / series_size)\n",
    "    end\n",
    "\n",
    "    x_index = trunc.(Int, x_index)\n",
    "    y_index = trunc.(Int, y_index)\n",
    "\n",
    "    # Verifying border problems\n",
    "    for (i, j) in enumerate(x_index)\n",
    "        if j >= series_size\n",
    "            x_index[i] = series_size - 1\n",
    "        elseif j == 0\n",
    "            x_index[i] = 1\n",
    "        end\n",
    "    end\n",
    "\n",
    "    for (i, j) in enumerate(y_index)\n",
    "        if j >= series_size\n",
    "            y_index[i] = series_size - 1\n",
    "        elseif j == 0\n",
    "            y_index[i] = 1\n",
    "        end\n",
    "    end\n",
    "\n",
    "\n",
    "\n",
    "    # Getting matrices from recurrence matrix\n",
    "    matrices = []\n",
    "    for (x, y) in zip(x_index, y_index)\n",
    "        push!(matrices, matrix[x:x+1, y:y+1])\n",
    "    end\n",
    "\n",
    "    # Counting each type\n",
    "    possible_matrices = [[0 0; 0 0], [1 0; 0 0], [0 1; 0 0], [0 0; 1 0],\n",
    "                         [0 0; 0 1], [1 1; 0 0], [1 0; 1 0], [0 0; 1 1],\n",
    "                         [0 1; 0 1], [1 0; 0 1], [0 1; 1 0], [1 1; 1 0],\n",
    "                         [0 1; 1 1], [1 0; 1 1], [1 1; 0 1], [1 1; 1 1]]\n",
    "\n",
    "    current_found = zeros(16)\n",
    "    for (i, current_matrix) in enumerate(possible_matrices)\n",
    "        for j in matrices\n",
    "            if current_matrix == j\n",
    "                current_found[i] += 1\n",
    "            end\n",
    "        end\n",
    "    end\n",
    "\n",
    "    # Calculating gamma by the paper definition\n",
    "    gamma1 = abs(current_found[2] - current_found[3]) +\n",
    "             abs(current_found[2] - current_found[4]) +\n",
    "             abs(current_found[2] - current_found[5]) +\n",
    "             abs(current_found[3] - current_found[4]) +\n",
    "             abs(current_found[3] - current_found[5]) +\n",
    "             abs(current_found[4] - current_found[5])\n",
    "\n",
    "\n",
    "    gamma2 = abs(current_found[6] - current_found[7]) +\n",
    "             abs(current_found[6] - current_found[8]) +\n",
    "             abs(current_found[6] - current_found[9]) +\n",
    "             abs(current_found[7] - current_found[8]) +\n",
    "             abs(current_found[7] - current_found[9]) +\n",
    "             abs(current_found[8] - current_found[9])\n",
    "\n",
    "    gamma3 = abs(current_found[10] - current_found[11])\n",
    "\n",
    "    gamma4 = abs(current_found[12] - current_found[13]) +\n",
    "             abs(current_found[12] - current_found[14]) +\n",
    "             abs(current_found[12] - current_found[15]) +\n",
    "             abs(current_found[13] - current_found[14]) +\n",
    "             abs(current_found[13] - current_found[15]) +\n",
    "             abs(current_found[14] - current_found[15])\n",
    "\n",
    "\n",
    "    total_gamma = (gamma1 + gamma2 + gamma3 + gamma4) / sample_size\n",
    "\n",
    "    push!(gammas, total_gamma)\n",
    "end\n",
    "# multiplying total_gamma by 100, since it should be a percentage\n",
    "# print(\"\\n\\n\", \"Total gamma is: \", total_gamma * 100, \"%\\n\\n\")\n",
    "mean = Statistics.mean(gammas)\n",
    "std_dev = Statistics.std(gammas)\n",
    "println(\"Mean gamma is $(mean)\")\n",
    "println(\"Mean gamma + 3 sigma is $(mean + 3 * std_dev)\")\n"
   ]
  },
  {
   "cell_type": "markdown",
   "metadata": {},
   "source": [
    "## Is the system deterministic?"
   ]
  },
  {
   "cell_type": "code",
   "execution_count": null,
   "metadata": {},
   "outputs": [
    {
     "name": "stdout",
     "output_type": "stream",
     "text": [
      "System is deterministic.\n"
     ]
    }
   ],
   "source": [
    "if total_gamma_system < (mean + 3 * std_dev)\n",
    "    println(\"System is stochastisc.\")\n",
    "elseif total_gamma_system > (mean + 3 * std_dev)\n",
    "    println(\"System is deterministic.\")\n",
    "else\n",
    "    println(\"Deu ruim\")\n",
    "end"
   ]
  },
  {
   "cell_type": "markdown",
   "metadata": {},
   "source": [
    "## TODO generate noise and choose the most restrictive gamma to determine if a system is deterministic"
   ]
  },
  {
   "cell_type": "markdown",
   "metadata": {},
   "source": [
    "## Dúvidas\n",
    "\n",
    "1.  É esse o caminho?\n",
    "2.  Quais os próximos passos?\n",
    "    * Já tentar identificar os grupos com uma rede neural?\n",
    "    * Otimizar métodos?\n",
    "3.  Como gerar ruído?\n",
    "    * Protótipo para gaussiano\n",
    "    * Distribuições mais complexas"
   ]
  }
 ],
 "metadata": {
  "kernelspec": {
   "display_name": "Julia 1.7.3",
   "language": "julia",
   "name": "julia-1.7"
  },
  "language_info": {
   "file_extension": ".jl",
   "mimetype": "application/julia",
   "name": "julia",
   "version": "1.7.3"
  },
  "orig_nbformat": 4
 },
 "nbformat": 4,
 "nbformat_minor": 2
}

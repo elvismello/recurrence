{
 "cells": [
  {
   "cell_type": "code",
   "execution_count": 1,
   "metadata": {},
   "outputs": [],
   "source": [
    "import numpy as np\n",
    "from matplotlib import pyplot as plt\n",
    "from scipy.cluster.hierarchy import dendrogram\n",
    "from sklearn.cluster import AgglomerativeClustering"
   ]
  },
  {
   "cell_type": "code",
   "execution_count": 2,
   "metadata": {},
   "outputs": [],
   "source": [
    "def plot_dendrogram(model, ax, **kwargs):\n",
    "    # Create linkage matrix and then plot the dendrogram\n",
    "\n",
    "    # create the counts of samples under each node\n",
    "    counts = np.zeros(model.children_.shape[0])\n",
    "    n_samples = len(model.labels_)\n",
    "    for i, merge in enumerate(model.children_):\n",
    "        current_count = 0\n",
    "        for child_idx in merge:\n",
    "            if child_idx < n_samples:\n",
    "                current_count += 1  # leaf node\n",
    "            else:\n",
    "                current_count += counts[child_idx - n_samples]\n",
    "        counts[i] = current_count\n",
    "\n",
    "    linkage_matrix = np.column_stack(\n",
    "        [model.children_, model.distances_, counts]\n",
    "    ).astype(float)\n",
    "\n",
    "    # Plot the corresponding dendrogram\n",
    "    dendrogram(linkage_matrix, ax=ax, **kwargs)\n",
    "\n",
    "\n",
    "# Calculates the sum of distances in a list, returning the sum and the list\n",
    "# size\n",
    "def big_d_r (list):\n",
    "    sum = 0.0\n",
    "    for i in list:\n",
    "        for j in list:\n",
    "            sum += abs(i - j)\n",
    "    return sum, len(list)"
   ]
  },
  {
   "cell_type": "code",
   "execution_count": 3,
   "metadata": {},
   "outputs": [
    {
     "name": "stdout",
     "output_type": "stream",
     "text": [
      "['0 0; 0 0']\n",
      "['0 0; 0 1', '0 0; 1 0', '0 1; 0 0', '1 0; 0 0']\n",
      "['0 0; 1 1', '0 1; 0 1', '0 1; 1 0', '1 0; 0 1', '1 0; 1 0', '1 1; 0 0']\n",
      "['0 1; 1 1', '1 0; 1 1', '1 1; 0 1', '1 1; 1 0']\n",
      "['1 1; 1 1']\n"
     ]
    }
   ],
   "source": [
    "# getting data\n",
    "\n",
    "with open(\"../n2prob.uniform.txt\", \"r\") as file:\n",
    "    lines = file.readlines()\n",
    "    lines = [i.strip(\"[]\\n\") for i in lines]\n",
    "    lines = [i.split(\", \") for i in lines]\n",
    "    lines = [np.array(i, dtype=\"float64\") for i in lines]\n",
    "\n",
    "with open(\"../matrices.n2prob.uniform.txt\", \"r\") as file:\n",
    "    matrices_lines = file.readlines()\n",
    "    to_be_removed = \"][\"\n",
    "    for i, string in enumerate(matrices_lines):\n",
    "        for char in to_be_removed:\n",
    "            string = string.replace(char, \"\")\n",
    "        matrices_lines[i] = string\n",
    "    matrices_lines = [i.split(\"\\n\") for i in matrices_lines]\n",
    "    for i, matrices_class in enumerate(matrices_lines):\n",
    "        matrices_lines[i] = [iter.split(\", \") for iter in matrices_class]\n",
    "\n",
    "for i, j in enumerate(matrices_lines):\n",
    "    matrices_lines[i] = matrices_lines[i][0]\n",
    "for i in matrices_lines:\n",
    "    print(i)"
   ]
  },
  {
   "cell_type": "code",
   "execution_count": null,
   "metadata": {},
   "outputs": [],
   "source": [
    "\n",
    "\n",
    "\n",
    "# ignoring first and last classes, since they only have 1 group\n",
    "for i, recurrence_class in enumerate(lines[1:-1]):\n",
    "    # Setting general graph properties\n",
    "    fig, axes = plt.subplots(4, 1, figsize=(10, 20), constrained_layout=True)\n",
    "    fig.suptitle(f\"Cluster Dendrogram for Class {i+1}\")\n",
    "     \n",
    "    for linkage_type, ax in zip([\"single\", \"complete\", \"average\", \"ward\"], axes):\n",
    "        \n",
    "        average = AgglomerativeClustering(n_clusters=3,\n",
    "                                            distance_threshold=None,\n",
    "                                            linkage=linkage_type,\n",
    "                                            compute_distances=True,\n",
    "                                            compute_full_tree=True)\n",
    "        model = average.fit(recurrence_class.reshape(-1, 1))\n",
    "\n",
    "        # plot the dendrograms\n",
    "        ax.set_xlabel(\"Matrix number\")\n",
    "        ax.set_ylabel(\"\\\"Proximity\\\"\")\n",
    "        #plot_dendrogram(model, ax, truncate_mode=\"level\", p=7)\n",
    "        plot_dendrogram(model, ax)\n",
    "        if i+1 == 2:\n",
    "            ax.set_ylim(0, 300)\n",
    "        else:\n",
    "            ax.set_ylim(0, 100)\n",
    "        ax.set_title(f\"Linkage: {linkage_type}\")\n",
    "    \n",
    "    fig.savefig(f\"n2test.class{i+1}.jpg\", dpi=150)\n",
    "    plt.close(fig)"
   ]
  },
  {
   "cell_type": "code",
   "execution_count": 4,
   "metadata": {},
   "outputs": [
    {
     "name": "stdout",
     "output_type": "stream",
     "text": [
      "0         8475.0         0 0; 1 1            \n",
      "0         8577.0         0 1; 0 1            \n",
      "1         8094.0         0 1; 1 0            \n",
      "1         8018.0         1 0; 0 1            \n",
      "0         8664.0         1 0; 1 0            \n",
      "0         8726.0         1 1; 0 0            \n"
     ]
    }
   ],
   "source": [
    "# Setting general graph properties\n",
    "#fig, axes = plt.subplots(4, 1, figsize=(10, 20), constrained_layout=True)\n",
    "#fig.suptitle(f\"Cluster Dendrogram for Class {i+1}\")\n",
    "class_number = 2\n",
    "linkage_type = \"average\"\n",
    "\n",
    "recurrence_class = lines[class_number]\n",
    "\n",
    "\n",
    "#for linkage_type, ax in zip([\"single\", \"complete\", \"average\", \"ward\"], axes):\n",
    "\n",
    "average = AgglomerativeClustering(n_clusters=2,\n",
    "                                    distance_threshold=None,\n",
    "                                    linkage=linkage_type,\n",
    "                                    compute_distances=True,\n",
    "                                    compute_full_tree=True)\n",
    "model = average.fit(recurrence_class.reshape(-1, 1))\n",
    "\n",
    "    # plot the dendrograms\n",
    "#    ax.set_xlabel(\"Matrix number\")\n",
    "#    ax.set_ylabel(\"\\\"Proximity\\\"\")\n",
    "    #plot_dendrogram(model, ax, truncate_mode=\"level\", p=7)\n",
    "    #plot_dendrogram(model, ax)\n",
    "    #if i+1 == 2:\n",
    "    #    ax.set_ylim(0, 300)\n",
    "    #else:\n",
    "    #    ax.set_ylim(0, 100)\n",
    "    #ax.set_title(f\"Linkage: {linkage_type}\")\n",
    "\n",
    "#fig.savefig(f\"n2test.class{i+1}.jpg\", dpi=150)\n",
    "#plt.close(fig)\n",
    "\n",
    "for i, j, k in zip(model.labels_, lines[class_number], matrices_lines[class_number]):\n",
    "    print(f\"{i:<10}{j:<15}{k:20}\")"
   ]
  },
  {
   "cell_type": "code",
   "execution_count": null,
   "metadata": {},
   "outputs": [
    {
     "name": "stdout",
     "output_type": "stream",
     "text": [
      "0:\t[9373.]\n",
      "1:\t[4480. 4352. 4435. 4476.]\n",
      "2:\t[8475. 8577. 8094. 8018. 8664. 8726.]\n",
      "3:\t[3456. 3321. 3464. 3290.]\n",
      "4:\t[8799.]\n"
     ]
    }
   ],
   "source": [
    "for i, j in enumerate(lines):\n",
    "    print(f\"{i}:\\t{j}\")"
   ]
  },
  {
   "cell_type": "code",
   "execution_count": 15,
   "metadata": {},
   "outputs": [
    {
     "data": {
      "text/plain": [
       "False"
      ]
     },
     "execution_count": 15,
     "metadata": {},
     "output_type": "execute_result"
    }
   ],
   "source": [
    "n_clusters=3\n",
    "distance_threshold=None\n",
    "\n",
    "not ((n_clusters is None) ^ (distance_threshold is None))"
   ]
  },
  {
   "cell_type": "code",
   "execution_count": 5,
   "metadata": {},
   "outputs": [
    {
     "data": {
      "image/png": "[encoded data removed]",
      "text/plain": [
       "<Figure size 432x288 with 1 Axes>"
      ]
     },
     "metadata": {
      "needs_background": "light"
     },
     "output_type": "display_data"
    }
   ],
   "source": [
    "color_threshold = 100\n",
    "linkage_type = \"average\"\n",
    "#number_of_groups = 3\n",
    "class_number = 3\n",
    "recurrence_class = lines[class_number]\n",
    "group_range = range(1, 5)\n",
    "\n",
    "\n",
    "w_list = []\n",
    "for number_of_groups in group_range:\n",
    "    clustering = AgglomerativeClustering(n_clusters=number_of_groups,\n",
    "                                        distance_threshold=None,\n",
    "                                        linkage=linkage_type,\n",
    "                                        compute_distances=True,\n",
    "                                        compute_full_tree=True)\n",
    "    model = clustering.fit(recurrence_class.reshape(-1, 1))\n",
    "    \n",
    "    #fig, ax = plt.subplots(1, 1, figsize=(15, 7))\n",
    "    #plot_dendrogram(model, ax, color_threshold=color_threshold)\n",
    "    #ax.set_ylim((0, 150))\n",
    "    #ax.axhline(color_threshold, c='black')\n",
    "    #fig.savefig('test.svg')\n",
    "    \n",
    "    matrices_by_labels = [[] for i in range(number_of_groups)]\n",
    "    for i, j in zip(model.labels_, matrices_lines[class_number]):\n",
    "        matrices_by_labels[i].append(j)\n",
    "    \n",
    "    lines_by_labels = [[] for i in range(number_of_groups)]\n",
    "    for i, j in zip(model.labels_, lines[class_number]):\n",
    "        lines_by_labels[i].append(j)\n",
    "    \n",
    "    # calculating big_w_k\n",
    "    w = 0.0\n",
    "    for i in lines_by_labels:\n",
    "        sum, sum_size = big_d_r(i)\n",
    "        w += sum / (2 * sum_size)\n",
    "    \n",
    "    w_list.append(w)\n",
    "fig, ax = plt.subplots(1, 1)\n",
    "\n",
    "ax.plot(group_range, w_list)\n",
    "ax.scatter(group_range, w_list)\n",
    "ax.set_xticks(group_range);"
   ]
  }
 ],
 "metadata": {
  "kernelspec": {
   "display_name": "Python 3",
   "language": "python",
   "name": "python3"
  },
  "language_info": {
   "codemirror_mode": {
    "name": "ipython",
    "version": 3
   },
   "file_extension": ".py",
   "mimetype": "text/x-python",
   "name": "python",
   "nbconvert_exporter": "python",
   "pygments_lexer": "ipython3",
   "version": "3.8.10"
  },
  "vscode": {
   "interpreter": {
    "hash": "31f2aee4e71d21fbe5cf8b01ff0e069b9275f58929596ceb00d14d90e3e16cd6"
   }
  }
 },
 "nbformat": 4,
 "nbformat_minor": 2
}

{
 "cells": [
  {
   "cell_type": "code",
   "execution_count": null,
   "metadata": {},
   "outputs": [],
   "source": [
    "import DynamicalSystems as DS\n",
    "import DynamicalSystems.RecurrenceAnalysis as RA\n",
    "import Random\n",
    "import PyPlot as plt\n",
    "\n",
    "import SignalAnalysis as SA\n",
    "import Clustering"
   ]
  },
  {
   "cell_type": "markdown",
   "metadata": {},
   "source": [
    "# TODO\n",
    "\n",
    "1.  DONE Make a histogram for every number of recurrences. DONE\n",
    "    *   Can be interesting."
   ]
  },
  {
   "cell_type": "markdown",
   "metadata": {},
   "source": [
    "# Generating data and organizing it\n",
    "#### (with some plots along the way) ####"
   ]
  },
  {
   "cell_type": "code",
   "execution_count": null,
   "metadata": {},
   "outputs": [],
   "source": [
    "SERIES_SIZE = 10000\n",
    "SAMPLE_SIZE = 100000\n",
    "\n",
    "# generating stochastic data\n",
    "trajectory = zeros(SERIES_SIZE)\n",
    "Random.rand!(trajectory);\n"
   ]
  },
  {
   "cell_type": "code",
   "execution_count": null,
   "metadata": {},
   "outputs": [],
   "source": [
    "# getting recurrence matrix\n",
    "matrix = RA.RecurrenceMatrix(trajectory, 0.28)\n",
    "\n",
    "new_matrix = zeros((SERIES_SIZE, SERIES_SIZE))\n",
    "for i in 1:SERIES_SIZE, j in 1:SERIES_SIZE\n",
    "    new_matrix[i, j] = 1 * matrix[i, j]    \n",
    "end\n",
    "matrix = trunc.(new_matrix);"
   ]
  },
  {
   "cell_type": "code",
   "execution_count": null,
   "metadata": {},
   "outputs": [],
   "source": [
    "# Getting samples\n",
    "\n",
    "# defining random indices\n",
    "x_index = zeros(SAMPLE_SIZE)\n",
    "y_index = zeros(SAMPLE_SIZE)\n",
    "\n",
    "Random.rand!(x_index, collect(1:SERIES_SIZE-2))\n",
    "Random.rand!(y_index, collect(1:SERIES_SIZE-2))\n",
    "\n",
    "x_index = trunc.(Int, x_index)\n",
    "y_index = trunc.(Int, y_index);\n",
    "\n",
    "\n",
    "sample = []\n",
    "for (x, y) in zip(x_index, y_index)\n",
    "    push!(sample, matrix[x:x+1, y:y+1])\n",
    "end;"
   ]
  },
  {
   "cell_type": "code",
   "execution_count": null,
   "metadata": {},
   "outputs": [],
   "source": [
    "# This generates all possible matrices with N=3\n",
    "# It also creates a second list with matrices sorted by class, where the index\n",
    "# is <number of recurrences> + 1\n",
    "\n",
    "# making 9 fors. I'm sorry.\n",
    "possible_matrices = []\n",
    "for a in 0:1, b in 0:1, c in 0:1, d in 0:1\n",
    "    push!(possible_matrices, [a b; c d])\n",
    "end\n",
    "\n",
    "possible_matrices_by_class = [[] for i in 1:5]\n",
    "\n",
    "for i in possible_matrices, j in 1:5\n",
    "    if sum(i) == j-1\n",
    "        push!(possible_matrices_by_class[j], i)\n",
    "    end\n",
    "end"
   ]
  },
  {
   "cell_type": "code",
   "execution_count": null,
   "metadata": {},
   "outputs": [],
   "source": [
    "# comparing sample with possible_matrices\n",
    "# this also sorts the obtained matrices into their respective classes\n",
    "counts = zeros(size(possible_matrices))\n",
    "sorted_by_class = [[] for i in 1:5]\n",
    "\n",
    "sample_copy = copy(sample)\n",
    "\n",
    "while size(sample_copy)[1] > 0\n",
    "    current_matrix = pop!(sample_copy)\n",
    "    push!(sorted_by_class[trunc(Int, sum(current_matrix) + 1)], current_matrix)\n",
    "    for (i, j) in enumerate(possible_matrices)\n",
    "        if current_matrix == j\n",
    "            counts[i] += 1\n",
    "            break\n",
    "        end\n",
    "    end\n",
    "\n",
    "end\n"
   ]
  },
  {
   "cell_type": "code",
   "execution_count": null,
   "metadata": {},
   "outputs": [],
   "source": [
    "# counting, for each class, the ocurrences of each microstate\n",
    "counts_by_class = [[] for i in 1:5]\n",
    "\n",
    "for (class, possible_iter) in enumerate(possible_matrices_by_class)\n",
    "    counts_iter = zeros(size(possible_iter))\n",
    "    for k in sorted_by_class[class]\n",
    "        for (i, j) in enumerate(possible_iter)\n",
    "            if k == j\n",
    "                counts_iter[i] += 1\n",
    "                break\n",
    "            end\n",
    "        end\n",
    "    end\n",
    "    push!(counts_by_class[class], counts_iter)\n",
    "end"
   ]
  },
  {
   "cell_type": "code",
   "execution_count": null,
   "metadata": {},
   "outputs": [],
   "source": [
    "# Saving some data\n",
    "open(\"test.txt\", \"w\") do file\n",
    "    for i in counts_by_class\n",
    "        write(file, \"$(collect(i...))\\n\")\n",
    "    end\n",
    "end\n",
    "\n",
    "open(\"matrices.txt\", \"w\") do file\n",
    "    for i in possible_matrices_by_class\n",
    "        write(file, \"$(i)\\n\")\n",
    "    end\n",
    "end"
   ]
  },
  {
   "cell_type": "code",
   "execution_count": null,
   "metadata": {},
   "outputs": [],
   "source": [
    "for i in 1:size(possible_matrices_by_class)[1]\n",
    "    println(\"$(i),  $(size(possible_matrices_by_class[i]))\")\n",
    "end"
   ]
  },
  {
   "cell_type": "code",
   "execution_count": null,
   "metadata": {},
   "outputs": [],
   "source": [
    "for i in 1:10\n",
    "    fig = plt.figure()\n",
    "    plt.suptitle(\"$(i-1) recurrences\")\n",
    "    plt.hist(counts_by_class[i], 40)\n",
    "    \n",
    "end"
   ]
  },
  {
   "cell_type": "code",
   "execution_count": null,
   "metadata": {},
   "outputs": [],
   "source": [
    "plt.close()\n",
    "plt.hist(counts, 300);"
   ]
  },
  {
   "cell_type": "code",
   "execution_count": null,
   "metadata": {},
   "outputs": [],
   "source": [
    "plt.close()\n",
    "plt.scatter(collect(1:512), counts, s=.5)"
   ]
  },
  {
   "cell_type": "code",
   "execution_count": null,
   "metadata": {},
   "outputs": [],
   "source": [
    "for i in 1:10\n",
    "    fig = plt.figure()\n",
    "    plt.suptitle(\"$(i-1) recurrences\")\n",
    "    plt.scatter(collect(1:size(collect(counts_by_class[i]...))[1]), counts_by_class[i], s=.75);\n",
    "end"
   ]
  },
  {
   "cell_type": "markdown",
   "metadata": {},
   "source": [
    "# Clusterizing it (Probably)"
   ]
  },
  {
   "cell_type": "code",
   "execution_count": null,
   "metadata": {},
   "outputs": [],
   "source": [
    "# the function Clustering.hclust needs the distances pre-calculated\n",
    "\n",
    "# testing for 4 recurrences\n",
    "d_size = size(collect(counts_by_class[4]...))[1]\n",
    "distance_matrix = zeros((d_size, d_size))\n",
    "\n",
    "for (i, iitem) in enumerate(counts_by_class[4]...),\n",
    "    (j, jitem) in enumerate(counts_by_class[4]...)\n",
    "    \n",
    "    distance_matrix[i, j] = abs(iitem - jitem)\n",
    "end"
   ]
  },
  {
   "cell_type": "code",
   "execution_count": null,
   "metadata": {},
   "outputs": [],
   "source": [
    "result = Clustering.hclust(distance_matrix; linkage = :average)"
   ]
  },
  {
   "cell_type": "code",
   "execution_count": null,
   "metadata": {},
   "outputs": [],
   "source": [
    "plt.figure()\n",
    "for i in r"
   ]
  },
  {
   "cell_type": "code",
   "execution_count": null,
   "metadata": {},
   "outputs": [],
   "source": [
    "for i in 1:size(result.merges)[1]\n",
    "    println(\"$(result.merges[i, :])     $(result.heights[i])\")\n",
    "end\n",
    "#plt.scatter(result.merges[:, 1], result.merges[:, 2])"
   ]
  },
  {
   "cell_type": "code",
   "execution_count": null,
   "metadata": {},
   "outputs": [],
   "source": []
  }
 ],
 "metadata": {
  "kernelspec": {
   "display_name": "Julia 1.7.3",
   "language": "julia",
   "name": "julia-1.7"
  },
  "language_info": {
   "file_extension": ".jl",
   "mimetype": "application/julia",
   "name": "julia",
   "version": "1.7.3"
  },
  "orig_nbformat": 4
 },
 "nbformat": 4,
 "nbformat_minor": 2
}
